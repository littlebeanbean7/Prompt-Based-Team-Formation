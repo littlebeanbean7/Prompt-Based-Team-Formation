{
 "cells": [
  {
   "cell_type": "markdown",
   "metadata": {},
   "source": [
    "# Load functions"
   ]
  },
  {
   "cell_type": "code",
   "execution_count": 1,
   "metadata": {},
   "outputs": [],
   "source": [
    "\n",
    "import pandas as pd\n",
    "import numpy as np\n",
    "import json\n",
    "import time\n",
    "from datasets import Dataset\n",
    "from datasets import DatasetDict\n",
    "from datasets import load_from_disk\n",
    "import pickle\n",
    "\n",
    "import torch\n",
    "from transformers import T5ForConditionalGeneration, T5Tokenizer\n",
    "from transformers import PreTrainedTokenizerFast\n",
    "from sklearn.model_selection import train_test_split\n",
    "\n",
    "\n",
    "import torch.nn as nn\n",
    "from torch.utils.data import DataLoader\n",
    "from torch.optim import AdamW\n",
    "from torch.optim.lr_scheduler import StepLR\n",
    "import torch.optim as optim"
   ]
  },
  {
   "cell_type": "code",
   "execution_count": 2,
   "metadata": {},
   "outputs": [],
   "source": [
    "from ast import literal_eval\n",
    "def string_to_python(s):\n",
    "    try:\n",
    "        return literal_eval(s)\n",
    "    except ValueError:\n",
    "        return None"
   ]
  },
  {
   "cell_type": "code",
   "execution_count": 4,
   "metadata": {},
   "outputs": [],
   "source": [
    "# Function to extract non-empty IDs\n",
    "def extract_ids(author_list):\n",
    "    return [author['id'] for author in author_list if author['id']]"
   ]
  },
  {
   "cell_type": "code",
   "execution_count": 3,
   "metadata": {},
   "outputs": [],
   "source": [
    "def eda(pdf, list_col):\n",
    "    import matplotlib.pyplot as plt\n",
    "    for c in list_col:\n",
    "        pdf[c].plot.hist(bins =120, alpha = 0.5)\n",
    "        plt.title(f\"Distribution of {c}\")\n",
    "        plt.show()\n",
    "        plt.clf()"
   ]
  },
  {
   "cell_type": "markdown",
   "metadata": {},
   "source": [
    "# Prepare data for modelling"
   ]
  },
  {
   "cell_type": "markdown",
   "metadata": {},
   "source": [
    "## Read in expertise"
   ]
  },
  {
   "cell_type": "code",
   "execution_count": 2,
   "metadata": {},
   "outputs": [
    {
     "name": "stdout",
     "output_type": "stream",
     "text": [
      "50\n"
     ]
    }
   ],
   "source": [
    "num_sublists = 50\n",
    "gpt_model = \"gpt-4o\"\n",
    "list_of_res = []\n",
    "\n",
    "for sublist_number in range(num_sublists):\n",
    "    loaded_results = []\n",
    "    with open(f\"data/label/results_{sublist_number}_{gpt_model}.json\", 'r') as f:\n",
    "        for line in f:\n",
    "            try:\n",
    "                result = json.loads(line)\n",
    "                loaded_results.append(result)\n",
    "            except json.JSONDecodeError as e:\n",
    "                print(f\"Error decoding JSON: {e}\")\n",
    "            \n",
    "    list_of_res.append(loaded_results)\n",
    "print(len(list_of_res))"
   ]
  },
  {
   "cell_type": "code",
   "execution_count": 3,
   "metadata": {},
   "outputs": [
    {
     "name": "stdout",
     "output_type": "stream",
     "text": [
      "64064\n"
     ]
    }
   ],
   "source": [
    "list_expertise_topic = []\n",
    "for l in list_of_res:\n",
    "    list_expertise_topic += l\n",
    "print(len(list_expertise_topic))"
   ]
  },
  {
   "cell_type": "code",
   "execution_count": 4,
   "metadata": {},
   "outputs": [
    {
     "data": {
      "text/plain": [
       "{'id': '53e9a0edb7602d97029d45c4',\n",
       " 'expertise': ['Mathematics',\n",
       "  'Discrete Mathematics',\n",
       "  'Graph Theory',\n",
       "  'Combinatorics',\n",
       "  'Algorithm Design',\n",
       "  'Complexity Theory',\n",
       "  'Approximation Algorithms',\n",
       "  'Hardness of Approximation',\n",
       "  'Multicommodity Flow Problems',\n",
       "  'Edge-Disjoint Paths Problems'],\n",
       " 'topic': ['Mathematics',\n",
       "  'Discrete Mathematics',\n",
       "  'Graph Theory',\n",
       "  'Combinatorics',\n",
       "  'Algorithmic Complexity',\n",
       "  'Approximation Algorithms',\n",
       "  'Hardness of Approximation',\n",
       "  'Multicommodity Flow',\n",
       "  'Edge-Disjoint Paths',\n",
       "  'Node-Disjoint Paths']}"
      ]
     },
     "execution_count": 4,
     "metadata": {},
     "output_type": "execute_result"
    }
   ],
   "source": [
    "list_expertise_topic[0]"
   ]
  },
  {
   "cell_type": "code",
   "execution_count": 5,
   "metadata": {},
   "outputs": [
    {
     "name": "stdout",
     "output_type": "stream",
     "text": [
      "(64064, 2)\n"
     ]
    },
    {
     "data": {
      "text/html": [
       "<div>\n",
       "<style scoped>\n",
       "    .dataframe tbody tr th:only-of-type {\n",
       "        vertical-align: middle;\n",
       "    }\n",
       "\n",
       "    .dataframe tbody tr th {\n",
       "        vertical-align: top;\n",
       "    }\n",
       "\n",
       "    .dataframe thead th {\n",
       "        text-align: right;\n",
       "    }\n",
       "</style>\n",
       "<table border=\"1\" class=\"dataframe\">\n",
       "  <thead>\n",
       "    <tr style=\"text-align: right;\">\n",
       "      <th></th>\n",
       "      <th>id</th>\n",
       "      <th>expertise</th>\n",
       "    </tr>\n",
       "  </thead>\n",
       "  <tbody>\n",
       "    <tr>\n",
       "      <th>0</th>\n",
       "      <td>53e9a0edb7602d97029d45c4</td>\n",
       "      <td>[Mathematics, Discrete Mathematics, Graph Theo...</td>\n",
       "    </tr>\n",
       "    <tr>\n",
       "      <th>1</th>\n",
       "      <td>53e9b5cfb7602d970411c8a3</td>\n",
       "      <td>[Machine Learning, Data Science, Statistical A...</td>\n",
       "    </tr>\n",
       "    <tr>\n",
       "      <th>2</th>\n",
       "      <td>599c7ef9601a182cd28ddd55</td>\n",
       "      <td>[Mathematical optimization, Linear programming...</td>\n",
       "    </tr>\n",
       "    <tr>\n",
       "      <th>3</th>\n",
       "      <td>5cfa5b985ced2477cb3c5177</td>\n",
       "      <td>[Computer Science, Data Science, Data Engineer...</td>\n",
       "    </tr>\n",
       "    <tr>\n",
       "      <th>4</th>\n",
       "      <td>57d06412ac4436735429bbfe</td>\n",
       "      <td>[Computer Science, Data Mining, Cloud Computin...</td>\n",
       "    </tr>\n",
       "  </tbody>\n",
       "</table>\n",
       "</div>"
      ],
      "text/plain": [
       "                         id                                          expertise\n",
       "0  53e9a0edb7602d97029d45c4  [Mathematics, Discrete Mathematics, Graph Theo...\n",
       "1  53e9b5cfb7602d970411c8a3  [Machine Learning, Data Science, Statistical A...\n",
       "2  599c7ef9601a182cd28ddd55  [Mathematical optimization, Linear programming...\n",
       "3  5cfa5b985ced2477cb3c5177  [Computer Science, Data Science, Data Engineer...\n",
       "4  57d06412ac4436735429bbfe  [Computer Science, Data Mining, Cloud Computin..."
      ]
     },
     "metadata": {},
     "output_type": "display_data"
    }
   ],
   "source": [
    "df_expertise = pd.DataFrame(list_expertise_topic, columns=['id', 'expertise', \"topic\"])[[\"id\", \"expertise\"]]\n",
    "print(df_expertise.shape)\n",
    "display(df_expertise.head())"
   ]
  },
  {
   "cell_type": "markdown",
   "metadata": {},
   "source": [
    "## Read in paper"
   ]
  },
  {
   "cell_type": "code",
   "execution_count": 6,
   "metadata": {},
   "outputs": [
    {
     "name": "stdout",
     "output_type": "stream",
     "text": [
      "(3216456, 9)\n",
      "Index(['id', 'year', 'lang', 'title', 'abstract', 'keywords',\n",
      "       'abstract_length', 'list_of_venue', 'list_of_field_of_study'],\n",
      "      dtype='object')\n"
     ]
    },
    {
     "data": {
      "text/html": [
       "<div>\n",
       "<style scoped>\n",
       "    .dataframe tbody tr th:only-of-type {\n",
       "        vertical-align: middle;\n",
       "    }\n",
       "\n",
       "    .dataframe tbody tr th {\n",
       "        vertical-align: top;\n",
       "    }\n",
       "\n",
       "    .dataframe thead th {\n",
       "        text-align: right;\n",
       "    }\n",
       "</style>\n",
       "<table border=\"1\" class=\"dataframe\">\n",
       "  <thead>\n",
       "    <tr style=\"text-align: right;\">\n",
       "      <th></th>\n",
       "      <th>id</th>\n",
       "      <th>year</th>\n",
       "      <th>lang</th>\n",
       "      <th>title</th>\n",
       "      <th>abstract</th>\n",
       "      <th>keywords</th>\n",
       "      <th>abstract_length</th>\n",
       "      <th>list_of_venue</th>\n",
       "      <th>list_of_field_of_study</th>\n",
       "    </tr>\n",
       "  </thead>\n",
       "  <tbody>\n",
       "    <tr>\n",
       "      <th>0</th>\n",
       "      <td>53e99785b7602d9701f43f95</td>\n",
       "      <td>2004</td>\n",
       "      <td>en</td>\n",
       "      <td>Bookshelf</td>\n",
       "      <td>Reviewed: Succeeding with Open Source Quality ...</td>\n",
       "      <td>['415', '460', ' P.K.', ' Volume 4: Anticipati...</td>\n",
       "      <td>152</td>\n",
       "      <td>['Software, IEEE']</td>\n",
       "      <td>NaN</td>\n",
       "    </tr>\n",
       "    <tr>\n",
       "      <th>1</th>\n",
       "      <td>53e9978ab7602d9701f4a038</td>\n",
       "      <td>2002</td>\n",
       "      <td>en</td>\n",
       "      <td>Neurointerfaces</td>\n",
       "      <td>A neurointerface is a nonlinear filtering syst...</td>\n",
       "      <td>['Humans', 'Automatic control', 'Nonlinear equ...</td>\n",
       "      <td>835</td>\n",
       "      <td>['Neurointerfaces']</td>\n",
       "      <td>NaN</td>\n",
       "    </tr>\n",
       "    <tr>\n",
       "      <th>2</th>\n",
       "      <td>53e9978ab7602d9701f4bc56</td>\n",
       "      <td>2007</td>\n",
       "      <td>en</td>\n",
       "      <td>Lisp</td>\n",
       "      <td>This report covers the activities of the 3rd E...</td>\n",
       "      <td>['Nick Levine', 'relevant organisational aspec...</td>\n",
       "      <td>335</td>\n",
       "      <td>['European Conference on Object-Oriented Progr...</td>\n",
       "      <td>NaN</td>\n",
       "    </tr>\n",
       "    <tr>\n",
       "      <th>3</th>\n",
       "      <td>53e9978db7602d9701f50771</td>\n",
       "      <td>2016</td>\n",
       "      <td>en</td>\n",
       "      <td>interactions</td>\n",
       "      <td>Given a C ∗ -algebra B , a closed * -subalgebr...</td>\n",
       "      <td>['transfer operator', 'generalized corresponde...</td>\n",
       "      <td>1123</td>\n",
       "      <td>['interactions']</td>\n",
       "      <td>NaN</td>\n",
       "    </tr>\n",
       "    <tr>\n",
       "      <th>4</th>\n",
       "      <td>53e99792b7602d9701f547ef</td>\n",
       "      <td>2007</td>\n",
       "      <td>en</td>\n",
       "      <td>Synergetics</td>\n",
       "      <td>Synergetics, a rather new interdisciplinary fi...</td>\n",
       "      <td>['General Principle', ' Functional Structure',...</td>\n",
       "      <td>632</td>\n",
       "      <td>['Physica B+C']</td>\n",
       "      <td>NaN</td>\n",
       "    </tr>\n",
       "  </tbody>\n",
       "</table>\n",
       "</div>"
      ],
      "text/plain": [
       "                         id  year lang            title  \\\n",
       "0  53e99785b7602d9701f43f95  2004   en        Bookshelf   \n",
       "1  53e9978ab7602d9701f4a038  2002   en  Neurointerfaces   \n",
       "2  53e9978ab7602d9701f4bc56  2007   en             Lisp   \n",
       "3  53e9978db7602d9701f50771  2016   en     interactions   \n",
       "4  53e99792b7602d9701f547ef  2007   en      Synergetics   \n",
       "\n",
       "                                            abstract  \\\n",
       "0  Reviewed: Succeeding with Open Source Quality ...   \n",
       "1  A neurointerface is a nonlinear filtering syst...   \n",
       "2  This report covers the activities of the 3rd E...   \n",
       "3  Given a C ∗ -algebra B , a closed * -subalgebr...   \n",
       "4  Synergetics, a rather new interdisciplinary fi...   \n",
       "\n",
       "                                            keywords  abstract_length  \\\n",
       "0  ['415', '460', ' P.K.', ' Volume 4: Anticipati...              152   \n",
       "1  ['Humans', 'Automatic control', 'Nonlinear equ...              835   \n",
       "2  ['Nick Levine', 'relevant organisational aspec...              335   \n",
       "3  ['transfer operator', 'generalized corresponde...             1123   \n",
       "4  ['General Principle', ' Functional Structure',...              632   \n",
       "\n",
       "                                       list_of_venue list_of_field_of_study  \n",
       "0                                 ['Software, IEEE']                    NaN  \n",
       "1                                ['Neurointerfaces']                    NaN  \n",
       "2  ['European Conference on Object-Oriented Progr...                    NaN  \n",
       "3                                   ['interactions']                    NaN  \n",
       "4                                    ['Physica B+C']                    NaN  "
      ]
     },
     "metadata": {},
     "output_type": "display_data"
    }
   ],
   "source": [
    "paper = pd.read_csv(\"./output/paper.csv\"\n",
    "                    , dtype = {\"id\": \"string\"\n",
    "                                , \"year\": int\n",
    "                                , \"lang\": \"string\" \n",
    "                                , \"title\": \"string\"\n",
    "                                , \"abstract\" : \"string\"\n",
    "                                , \"keywords\" : \"string\"\n",
    "                                , \"abstract_length\": int\n",
    "                                , \"list_of_venue\": object\n",
    "                                , \"list_of_field_of_study\": object})\n",
    "print(paper.shape)\n",
    "print(paper.columns)\n",
    "display(paper.head())"
   ]
  },
  {
   "cell_type": "code",
   "execution_count": 7,
   "metadata": {},
   "outputs": [
    {
     "data": {
      "text/html": [
       "<div>\n",
       "<style scoped>\n",
       "    .dataframe tbody tr th:only-of-type {\n",
       "        vertical-align: middle;\n",
       "    }\n",
       "\n",
       "    .dataframe tbody tr th {\n",
       "        vertical-align: top;\n",
       "    }\n",
       "\n",
       "    .dataframe thead th {\n",
       "        text-align: right;\n",
       "    }\n",
       "</style>\n",
       "<table border=\"1\" class=\"dataframe\">\n",
       "  <thead>\n",
       "    <tr style=\"text-align: right;\">\n",
       "      <th></th>\n",
       "      <th>id</th>\n",
       "      <th>year</th>\n",
       "      <th>lang</th>\n",
       "      <th>title</th>\n",
       "      <th>abstract</th>\n",
       "      <th>keywords</th>\n",
       "      <th>abstract_length</th>\n",
       "      <th>list_of_venue</th>\n",
       "      <th>list_of_field_of_study</th>\n",
       "    </tr>\n",
       "  </thead>\n",
       "  <tbody>\n",
       "    <tr>\n",
       "      <th>0</th>\n",
       "      <td>53e99785b7602d9701f43f95</td>\n",
       "      <td>2004</td>\n",
       "      <td>en</td>\n",
       "      <td>Bookshelf</td>\n",
       "      <td>Reviewed: Succeeding with Open Source Quality ...</td>\n",
       "      <td>['415', '460', ' P.K.', ' Volume 4: Anticipati...</td>\n",
       "      <td>152</td>\n",
       "      <td>['Software, IEEE']</td>\n",
       "      <td>NaN</td>\n",
       "    </tr>\n",
       "    <tr>\n",
       "      <th>1</th>\n",
       "      <td>53e9978ab7602d9701f4a038</td>\n",
       "      <td>2002</td>\n",
       "      <td>en</td>\n",
       "      <td>Neurointerfaces</td>\n",
       "      <td>A neurointerface is a nonlinear filtering syst...</td>\n",
       "      <td>['Humans', 'Automatic control', 'Nonlinear equ...</td>\n",
       "      <td>835</td>\n",
       "      <td>['Neurointerfaces']</td>\n",
       "      <td>NaN</td>\n",
       "    </tr>\n",
       "    <tr>\n",
       "      <th>2</th>\n",
       "      <td>53e9978ab7602d9701f4bc56</td>\n",
       "      <td>2007</td>\n",
       "      <td>en</td>\n",
       "      <td>Lisp</td>\n",
       "      <td>This report covers the activities of the 3rd E...</td>\n",
       "      <td>['Nick Levine', 'relevant organisational aspec...</td>\n",
       "      <td>335</td>\n",
       "      <td>['European Conference on Object-Oriented Progr...</td>\n",
       "      <td>NaN</td>\n",
       "    </tr>\n",
       "    <tr>\n",
       "      <th>3</th>\n",
       "      <td>53e9978db7602d9701f50771</td>\n",
       "      <td>2016</td>\n",
       "      <td>en</td>\n",
       "      <td>interactions</td>\n",
       "      <td>Given a C ∗ -algebra B , a closed * -subalgebr...</td>\n",
       "      <td>['transfer operator', 'generalized corresponde...</td>\n",
       "      <td>1123</td>\n",
       "      <td>['interactions']</td>\n",
       "      <td>NaN</td>\n",
       "    </tr>\n",
       "    <tr>\n",
       "      <th>4</th>\n",
       "      <td>53e99792b7602d9701f547ef</td>\n",
       "      <td>2007</td>\n",
       "      <td>en</td>\n",
       "      <td>Synergetics</td>\n",
       "      <td>Synergetics, a rather new interdisciplinary fi...</td>\n",
       "      <td>['General Principle', ' Functional Structure',...</td>\n",
       "      <td>632</td>\n",
       "      <td>['Physica B+C']</td>\n",
       "      <td>NaN</td>\n",
       "    </tr>\n",
       "  </tbody>\n",
       "</table>\n",
       "</div>"
      ],
      "text/plain": [
       "                         id  year lang            title  \\\n",
       "0  53e99785b7602d9701f43f95  2004   en        Bookshelf   \n",
       "1  53e9978ab7602d9701f4a038  2002   en  Neurointerfaces   \n",
       "2  53e9978ab7602d9701f4bc56  2007   en             Lisp   \n",
       "3  53e9978db7602d9701f50771  2016   en     interactions   \n",
       "4  53e99792b7602d9701f547ef  2007   en      Synergetics   \n",
       "\n",
       "                                            abstract  \\\n",
       "0  Reviewed: Succeeding with Open Source Quality ...   \n",
       "1  A neurointerface is a nonlinear filtering syst...   \n",
       "2  This report covers the activities of the 3rd E...   \n",
       "3  Given a C ∗ -algebra B , a closed * -subalgebr...   \n",
       "4  Synergetics, a rather new interdisciplinary fi...   \n",
       "\n",
       "                                            keywords  abstract_length  \\\n",
       "0  ['415', '460', ' P.K.', ' Volume 4: Anticipati...              152   \n",
       "1  ['Humans', 'Automatic control', 'Nonlinear equ...              835   \n",
       "2  ['Nick Levine', 'relevant organisational aspec...              335   \n",
       "3  ['transfer operator', 'generalized corresponde...             1123   \n",
       "4  ['General Principle', ' Functional Structure',...              632   \n",
       "\n",
       "                                       list_of_venue list_of_field_of_study  \n",
       "0                                 ['Software, IEEE']                    NaN  \n",
       "1                                ['Neurointerfaces']                    NaN  \n",
       "2  ['European Conference on Object-Oriented Progr...                    NaN  \n",
       "3                                   ['interactions']                    NaN  \n",
       "4                                    ['Physica B+C']                    NaN  "
      ]
     },
     "metadata": {},
     "output_type": "display_data"
    }
   ],
   "source": [
    "display(paper.head())"
   ]
  },
  {
   "cell_type": "code",
   "execution_count": 8,
   "metadata": {},
   "outputs": [
    {
     "data": {
      "text/html": [
       "<div>\n",
       "<style scoped>\n",
       "    .dataframe tbody tr th:only-of-type {\n",
       "        vertical-align: middle;\n",
       "    }\n",
       "\n",
       "    .dataframe tbody tr th {\n",
       "        vertical-align: top;\n",
       "    }\n",
       "\n",
       "    .dataframe thead th {\n",
       "        text-align: right;\n",
       "    }\n",
       "</style>\n",
       "<table border=\"1\" class=\"dataframe\">\n",
       "  <thead>\n",
       "    <tr style=\"text-align: right;\">\n",
       "      <th></th>\n",
       "      <th>id</th>\n",
       "      <th>abstract</th>\n",
       "    </tr>\n",
       "  </thead>\n",
       "  <tbody>\n",
       "    <tr>\n",
       "      <th>0</th>\n",
       "      <td>53e99785b7602d9701f43f95</td>\n",
       "      <td>Reviewed: Succeeding with Open Source Quality ...</td>\n",
       "    </tr>\n",
       "    <tr>\n",
       "      <th>1</th>\n",
       "      <td>53e9978ab7602d9701f4a038</td>\n",
       "      <td>A neurointerface is a nonlinear filtering syst...</td>\n",
       "    </tr>\n",
       "    <tr>\n",
       "      <th>2</th>\n",
       "      <td>53e9978ab7602d9701f4bc56</td>\n",
       "      <td>This report covers the activities of the 3rd E...</td>\n",
       "    </tr>\n",
       "    <tr>\n",
       "      <th>3</th>\n",
       "      <td>53e9978db7602d9701f50771</td>\n",
       "      <td>Given a C ∗ -algebra B , a closed * -subalgebr...</td>\n",
       "    </tr>\n",
       "    <tr>\n",
       "      <th>4</th>\n",
       "      <td>53e99792b7602d9701f547ef</td>\n",
       "      <td>Synergetics, a rather new interdisciplinary fi...</td>\n",
       "    </tr>\n",
       "  </tbody>\n",
       "</table>\n",
       "</div>"
      ],
      "text/plain": [
       "                         id                                           abstract\n",
       "0  53e99785b7602d9701f43f95  Reviewed: Succeeding with Open Source Quality ...\n",
       "1  53e9978ab7602d9701f4a038  A neurointerface is a nonlinear filtering syst...\n",
       "2  53e9978ab7602d9701f4bc56  This report covers the activities of the 3rd E...\n",
       "3  53e9978db7602d9701f50771  Given a C ∗ -algebra B , a closed * -subalgebr...\n",
       "4  53e99792b7602d9701f547ef  Synergetics, a rather new interdisciplinary fi..."
      ]
     },
     "metadata": {},
     "output_type": "display_data"
    }
   ],
   "source": [
    "paper = paper[[\"id\"#, \"year\"\n",
    "               , \"abstract\"]]\n",
    "display(paper.head())"
   ]
  },
  {
   "cell_type": "markdown",
   "metadata": {},
   "source": [
    "## Read in paper_author table so as to make sure each CS paper's author published at least 2 CS papers"
   ]
  },
  {
   "cell_type": "code",
   "execution_count": 9,
   "metadata": {},
   "outputs": [
    {
     "name": "stdout",
     "output_type": "stream",
     "text": [
      "(12941080, 2)\n",
      "Index(['paper_id', 'author_id'], dtype='object')\n"
     ]
    },
    {
     "data": {
      "text/html": [
       "<div>\n",
       "<style scoped>\n",
       "    .dataframe tbody tr th:only-of-type {\n",
       "        vertical-align: middle;\n",
       "    }\n",
       "\n",
       "    .dataframe tbody tr th {\n",
       "        vertical-align: top;\n",
       "    }\n",
       "\n",
       "    .dataframe thead th {\n",
       "        text-align: right;\n",
       "    }\n",
       "</style>\n",
       "<table border=\"1\" class=\"dataframe\">\n",
       "  <thead>\n",
       "    <tr style=\"text-align: right;\">\n",
       "      <th></th>\n",
       "      <th>paper_id</th>\n",
       "      <th>author_id</th>\n",
       "    </tr>\n",
       "  </thead>\n",
       "  <tbody>\n",
       "    <tr>\n",
       "      <th>0</th>\n",
       "      <td>53e99784b7602d9701f3ffdd</td>\n",
       "      <td>53f43776dabfaee0d9b6e75b</td>\n",
       "    </tr>\n",
       "    <tr>\n",
       "      <th>1</th>\n",
       "      <td>53e99785b7602d9701f41492</td>\n",
       "      <td>53f42e86dabfaee43ebd375a</td>\n",
       "    </tr>\n",
       "    <tr>\n",
       "      <th>2</th>\n",
       "      <td>53e99785b7602d9701f414a7</td>\n",
       "      <td>53f4671bdabfaeee22a56233</td>\n",
       "    </tr>\n",
       "    <tr>\n",
       "      <th>3</th>\n",
       "      <td>53e99785b7602d9701f414a8</td>\n",
       "      <td>53f4d423dabfaeedd9781e23</td>\n",
       "    </tr>\n",
       "    <tr>\n",
       "      <th>4</th>\n",
       "      <td>53e99785b7602d9701f414a8</td>\n",
       "      <td>54055a2fdabfae91d3fd878b</td>\n",
       "    </tr>\n",
       "  </tbody>\n",
       "</table>\n",
       "</div>"
      ],
      "text/plain": [
       "                   paper_id                 author_id\n",
       "0  53e99784b7602d9701f3ffdd  53f43776dabfaee0d9b6e75b\n",
       "1  53e99785b7602d9701f41492  53f42e86dabfaee43ebd375a\n",
       "2  53e99785b7602d9701f414a7  53f4671bdabfaeee22a56233\n",
       "3  53e99785b7602d9701f414a8  53f4d423dabfaeedd9781e23\n",
       "4  53e99785b7602d9701f414a8  54055a2fdabfae91d3fd878b"
      ]
     },
     "metadata": {},
     "output_type": "display_data"
    }
   ],
   "source": [
    "author = pd.read_csv(\"./output/paper_to_author_with_id.csv\")\n",
    "print(author.shape)\n",
    "print(author.columns)\n",
    "display(author.head())"
   ]
  },
  {
   "cell_type": "markdown",
   "metadata": {},
   "source": [
    "### Get a list of authors for CS paper"
   ]
  },
  {
   "cell_type": "code",
   "execution_count": 10,
   "metadata": {},
   "outputs": [
    {
     "name": "stdout",
     "output_type": "stream",
     "text": [
      "Number of CS paper: 64064\n",
      "Number of CS paper - author relationship: 222694\n",
      "Number of unique author for CS paper: 105324\n"
     ]
    },
    {
     "data": {
      "text/html": [
       "<div>\n",
       "<style scoped>\n",
       "    .dataframe tbody tr th:only-of-type {\n",
       "        vertical-align: middle;\n",
       "    }\n",
       "\n",
       "    .dataframe tbody tr th {\n",
       "        vertical-align: top;\n",
       "    }\n",
       "\n",
       "    .dataframe thead th {\n",
       "        text-align: right;\n",
       "    }\n",
       "</style>\n",
       "<table border=\"1\" class=\"dataframe\">\n",
       "  <thead>\n",
       "    <tr style=\"text-align: right;\">\n",
       "      <th></th>\n",
       "      <th>paper_id</th>\n",
       "      <th>author_id</th>\n",
       "    </tr>\n",
       "  </thead>\n",
       "  <tbody>\n",
       "    <tr>\n",
       "      <th>478</th>\n",
       "      <td>53e9986eb7602d97020a6250</td>\n",
       "      <td>53f39cd6dabfae4b34a9f61b</td>\n",
       "    </tr>\n",
       "    <tr>\n",
       "      <th>479</th>\n",
       "      <td>53e9986eb7602d97020a6250</td>\n",
       "      <td>53f430dedabfaedf43542cd9</td>\n",
       "    </tr>\n",
       "    <tr>\n",
       "      <th>512</th>\n",
       "      <td>53e998e1b7602d970211c891</td>\n",
       "      <td>53f474b2dabfaeecd6a439bc</td>\n",
       "    </tr>\n",
       "    <tr>\n",
       "      <th>513</th>\n",
       "      <td>53e998e1b7602d970211c891</td>\n",
       "      <td>54870ed8dabfaed7b5fa2db5</td>\n",
       "    </tr>\n",
       "    <tr>\n",
       "      <th>835</th>\n",
       "      <td>53e99b2cb7602d97023c7c1d</td>\n",
       "      <td>53f447a9dabfaeee229fc8b0</td>\n",
       "    </tr>\n",
       "  </tbody>\n",
       "</table>\n",
       "</div>"
      ],
      "text/plain": [
       "                     paper_id                 author_id\n",
       "478  53e9986eb7602d97020a6250  53f39cd6dabfae4b34a9f61b\n",
       "479  53e9986eb7602d97020a6250  53f430dedabfaedf43542cd9\n",
       "512  53e998e1b7602d970211c891  53f474b2dabfaeecd6a439bc\n",
       "513  53e998e1b7602d970211c891  54870ed8dabfaed7b5fa2db5\n",
       "835  53e99b2cb7602d97023c7c1d  53f447a9dabfaeee229fc8b0"
      ]
     },
     "metadata": {},
     "output_type": "display_data"
    }
   ],
   "source": [
    "# Check how many auther are in the list of paper\n",
    "\n",
    "list_paper_id = []\n",
    "for paper_dict in list_expertise_topic:\n",
    "    list_paper_id.append(paper_dict[\"id\"])\n",
    "\n",
    "\n",
    "print(f\"Number of CS paper: {len(list_paper_id)}\")\n",
    "\n",
    "cs_paper_author = author[author[\"paper_id\"].isin(list_paper_id)]\n",
    "\n",
    "print(f\"Number of CS paper - author relationship: {cs_paper_author.shape[0]}\")\n",
    "\n",
    "print(f'Number of unique author for CS paper: {cs_paper_author[\"author_id\"].nunique()}')\n",
    "\n",
    "display(cs_paper_author.head())\n",
    "cs_paper_author.to_csv(\"./output/unique_author_in_cs_paper.csv\", index = False)"
   ]
  },
  {
   "cell_type": "code",
   "execution_count": 11,
   "metadata": {},
   "outputs": [
    {
     "data": {
      "text/plain": [
       "count    64064.000000\n",
       "mean         3.476118\n",
       "std          1.653166\n",
       "min          2.000000\n",
       "25%          2.000000\n",
       "50%          3.000000\n",
       "75%          4.000000\n",
       "max         34.000000\n",
       "Name: count, dtype: float64"
      ]
     },
     "execution_count": 11,
     "metadata": {},
     "output_type": "execute_result"
    }
   ],
   "source": [
    "# double check that each paper at least have 2 authors\n",
    "cs_paper_author.groupby(\"paper_id\").size().reset_index().rename(columns = {0: \"count\"})[\"count\"].describe()"
   ]
  },
  {
   "cell_type": "code",
   "execution_count": 12,
   "metadata": {},
   "outputs": [
    {
     "name": "stdout",
     "output_type": "stream",
     "text": [
      "(29096, 2)\n"
     ]
    },
    {
     "data": {
      "text/plain": [
       "count    105324.000000\n",
       "mean          2.114371\n",
       "std           4.824688\n",
       "min           1.000000\n",
       "25%           1.000000\n",
       "50%           1.000000\n",
       "75%           2.000000\n",
       "max         345.000000\n",
       "Name: count, dtype: float64"
      ]
     },
     "metadata": {},
     "output_type": "display_data"
    }
   ],
   "source": [
    "cs_author_freq = cs_paper_author.groupby(\"author_id\").size().reset_index().rename(columns = {0: \"count\"})\n",
    "print(cs_author_freq[cs_author_freq[\"count\"] > 1].shape)\n",
    "display(cs_author_freq[\"count\"].describe())"
   ]
  },
  {
   "cell_type": "markdown",
   "metadata": {},
   "source": [
    "#### 2+ publication"
   ]
  },
  {
   "cell_type": "code",
   "execution_count": 13,
   "metadata": {},
   "outputs": [
    {
     "name": "stdout",
     "output_type": "stream",
     "text": [
      "29096\n",
      "76228\n",
      "105324\n"
     ]
    }
   ],
   "source": [
    "list_cs_author_published_2plus_paper = cs_author_freq[cs_author_freq[\"count\"] >=2 ][\"author_id\"].to_list()\n",
    "print(len(list_cs_author_published_2plus_paper))\n",
    "\n",
    "list_cs_author_published_lessthan2_paper = cs_author_freq[cs_author_freq[\"count\"] < 2 ][\"author_id\"].to_list()\n",
    "print(len(list_cs_author_published_lessthan2_paper))\n",
    "\n",
    "print(len(list_cs_author_published_2plus_paper) + len(list_cs_author_published_lessthan2_paper))"
   ]
  },
  {
   "cell_type": "code",
   "execution_count": 14,
   "metadata": {},
   "outputs": [
    {
     "name": "stdout",
     "output_type": "stream",
     "text": [
      "38013\n"
     ]
    }
   ],
   "source": [
    "list_paper_contain_author_lessthan2paper = cs_paper_author[cs_paper_author[\"author_id\"].isin(list_cs_author_published_lessthan2_paper)][\"paper_id\"].unique()\n",
    "print(len(list_paper_contain_author_lessthan2paper))"
   ]
  },
  {
   "cell_type": "code",
   "execution_count": 15,
   "metadata": {},
   "outputs": [
    {
     "name": "stdout",
     "output_type": "stream",
     "text": [
      "(80813, 2)\n",
      "26051\n"
     ]
    }
   ],
   "source": [
    "# relationship\n",
    "print(cs_paper_author[~cs_paper_author[\"paper_id\"].isin(list_paper_contain_author_lessthan2paper)].shape)\n",
    "\n",
    "# paper node\n",
    "print(cs_paper_author[~cs_paper_author[\"paper_id\"].isin(list_paper_contain_author_lessthan2paper)][\"paper_id\"].nunique())"
   ]
  },
  {
   "cell_type": "code",
   "execution_count": 17,
   "metadata": {},
   "outputs": [
    {
     "data": {
      "text/html": [
       "<div>\n",
       "<style scoped>\n",
       "    .dataframe tbody tr th:only-of-type {\n",
       "        vertical-align: middle;\n",
       "    }\n",
       "\n",
       "    .dataframe tbody tr th {\n",
       "        vertical-align: top;\n",
       "    }\n",
       "\n",
       "    .dataframe thead th {\n",
       "        text-align: right;\n",
       "    }\n",
       "</style>\n",
       "<table border=\"1\" class=\"dataframe\">\n",
       "  <thead>\n",
       "    <tr style=\"text-align: right;\">\n",
       "      <th></th>\n",
       "      <th>paper_id</th>\n",
       "      <th>author_id</th>\n",
       "    </tr>\n",
       "  </thead>\n",
       "  <tbody>\n",
       "    <tr>\n",
       "      <th>1161</th>\n",
       "      <td>53e99e0bb7602d97026cd68c</td>\n",
       "      <td>53f42ed2dabfaedd74d496dc</td>\n",
       "    </tr>\n",
       "    <tr>\n",
       "      <th>1162</th>\n",
       "      <td>53e99e0bb7602d97026cd68c</td>\n",
       "      <td>53f42fa1dabfaee4dc735ab2</td>\n",
       "    </tr>\n",
       "    <tr>\n",
       "      <th>1934</th>\n",
       "      <td>53e9a46bb7602d9702d8bf24</td>\n",
       "      <td>53f4593ddabfaec09f210d4d</td>\n",
       "    </tr>\n",
       "    <tr>\n",
       "      <th>1935</th>\n",
       "      <td>53e9a46bb7602d9702d8bf24</td>\n",
       "      <td>53f6616fdabfae8dcd35b284</td>\n",
       "    </tr>\n",
       "    <tr>\n",
       "      <th>1936</th>\n",
       "      <td>53e9a46bb7602d9702d8bf24</td>\n",
       "      <td>562cc45c45cedb3398cb99a5</td>\n",
       "    </tr>\n",
       "  </tbody>\n",
       "</table>\n",
       "</div>"
      ],
      "text/plain": [
       "                      paper_id                 author_id\n",
       "1161  53e99e0bb7602d97026cd68c  53f42ed2dabfaedd74d496dc\n",
       "1162  53e99e0bb7602d97026cd68c  53f42fa1dabfaee4dc735ab2\n",
       "1934  53e9a46bb7602d9702d8bf24  53f4593ddabfaec09f210d4d\n",
       "1935  53e9a46bb7602d9702d8bf24  53f6616fdabfae8dcd35b284\n",
       "1936  53e9a46bb7602d9702d8bf24  562cc45c45cedb3398cb99a5"
      ]
     },
     "execution_count": 17,
     "metadata": {},
     "output_type": "execute_result"
    }
   ],
   "source": [
    "cs_paper_author[~cs_paper_author[\"paper_id\"].isin(list_paper_contain_author_lessthan2paper)].head()"
   ]
  },
  {
   "cell_type": "code",
   "execution_count": null,
   "metadata": {},
   "outputs": [],
   "source": [
    "cs_paper_author[~cs_paper_author[\"paper_id\"].isin(list_paper_contain_author_lessthan2paper)].to_csv(\"./output/unique_author_published_2plus_cs_paper.csv\", index = False)"
   ]
  },
  {
   "cell_type": "markdown",
   "metadata": {},
   "source": [
    "## Read in original paper data with list of authors, so as to preserve the sequence of authors "
   ]
  },
  {
   "cell_type": "code",
   "execution_count": 19,
   "metadata": {},
   "outputs": [
    {
     "name": "stderr",
     "output_type": "stream",
     "text": [
      "/tmp/ipykernel_33209/659061516.py:1: DtypeWarning: Columns (19,20,21,22) have mixed types. Specify dtype option on import or set low_memory=False.\n",
      "  paper_orig = pd.read_csv(\"./data/dblp_v14.csv\")\n"
     ]
    },
    {
     "name": "stdout",
     "output_type": "stream",
     "text": [
      "(5259860, 23)\n"
     ]
    },
    {
     "data": {
      "text/html": [
       "<div>\n",
       "<style scoped>\n",
       "    .dataframe tbody tr th:only-of-type {\n",
       "        vertical-align: middle;\n",
       "    }\n",
       "\n",
       "    .dataframe tbody tr th {\n",
       "        vertical-align: top;\n",
       "    }\n",
       "\n",
       "    .dataframe thead th {\n",
       "        text-align: right;\n",
       "    }\n",
       "</style>\n",
       "<table border=\"1\" class=\"dataframe\">\n",
       "  <thead>\n",
       "    <tr style=\"text-align: right;\">\n",
       "      <th></th>\n",
       "      <th>id</th>\n",
       "      <th>title</th>\n",
       "      <th>doi</th>\n",
       "      <th>issue</th>\n",
       "      <th>keywords</th>\n",
       "      <th>lang</th>\n",
       "      <th>venue</th>\n",
       "      <th>year</th>\n",
       "      <th>n_citation</th>\n",
       "      <th>page_start</th>\n",
       "      <th>...</th>\n",
       "      <th>isbn</th>\n",
       "      <th>url</th>\n",
       "      <th>abstract</th>\n",
       "      <th>authors</th>\n",
       "      <th>doc_type</th>\n",
       "      <th>references</th>\n",
       "      <th>fos</th>\n",
       "      <th>indexed_abstract</th>\n",
       "      <th>v12_id</th>\n",
       "      <th>v12_authors</th>\n",
       "    </tr>\n",
       "  </thead>\n",
       "  <tbody>\n",
       "    <tr>\n",
       "      <th>0</th>\n",
       "      <td>53e99784b7602d9701f3ffdd</td>\n",
       "      <td>Flow.</td>\n",
       "      <td>10.1145/1280120.1280225</td>\n",
       "      <td>10</td>\n",
       "      <td>[]</td>\n",
       "      <td>en</td>\n",
       "      <td>{'raw': 'SIGGRAPH Art Gallery'}</td>\n",
       "      <td>2006.0</td>\n",
       "      <td>15.0</td>\n",
       "      <td>NaN</td>\n",
       "      <td>...</td>\n",
       "      <td>NaN</td>\n",
       "      <td>[]</td>\n",
       "      <td>NaN</td>\n",
       "      <td>[{'id': '53f43776dabfaee0d9b6e75b', 'name': 'M...</td>\n",
       "      <td>Conference</td>\n",
       "      <td>NaN</td>\n",
       "      <td>NaN</td>\n",
       "      <td>NaN</td>\n",
       "      <td>NaN</td>\n",
       "      <td>NaN</td>\n",
       "    </tr>\n",
       "    <tr>\n",
       "      <th>1</th>\n",
       "      <td>53e99785b7602d9701f41492</td>\n",
       "      <td>Dancing</td>\n",
       "      <td>10.1145/281388.281845</td>\n",
       "      <td>19</td>\n",
       "      <td>[]</td>\n",
       "      <td>en</td>\n",
       "      <td>{'raw': 'ACM SIGGRAPH 98 Electronic art and an...</td>\n",
       "      <td>1998.0</td>\n",
       "      <td>0.0</td>\n",
       "      <td>116</td>\n",
       "      <td>...</td>\n",
       "      <td>1-58113-045-7</td>\n",
       "      <td>['http://dx.doi.org/10.1145/281388.281845', 'h...</td>\n",
       "      <td>NaN</td>\n",
       "      <td>[{'id': '53f42e86dabfaee43ebd375a', 'name': 'A...</td>\n",
       "      <td>Conference</td>\n",
       "      <td>NaN</td>\n",
       "      <td>NaN</td>\n",
       "      <td>NaN</td>\n",
       "      <td>NaN</td>\n",
       "      <td>NaN</td>\n",
       "    </tr>\n",
       "    <tr>\n",
       "      <th>2</th>\n",
       "      <td>53e99785b7602d9701f414a7</td>\n",
       "      <td>Documentation</td>\n",
       "      <td>10.1007/3-540-07168-7_82</td>\n",
       "      <td>NaN</td>\n",
       "      <td>[]</td>\n",
       "      <td>en</td>\n",
       "      <td>{'raw': 'Software Engineering, An Advanced Cou...</td>\n",
       "      <td>1972.0</td>\n",
       "      <td>3.0</td>\n",
       "      <td>385</td>\n",
       "      <td>...</td>\n",
       "      <td>3-540-07168-7</td>\n",
       "      <td>[]</td>\n",
       "      <td>NaN</td>\n",
       "      <td>[{'id': '53f4671bdabfaeee22a56233', 'name': 'G...</td>\n",
       "      <td>Conference</td>\n",
       "      <td>NaN</td>\n",
       "      <td>NaN</td>\n",
       "      <td>NaN</td>\n",
       "      <td>NaN</td>\n",
       "      <td>NaN</td>\n",
       "    </tr>\n",
       "    <tr>\n",
       "      <th>3</th>\n",
       "      <td>53e99785b7602d9701f414a8</td>\n",
       "      <td>Datennetze</td>\n",
       "      <td>NaN</td>\n",
       "      <td>NaN</td>\n",
       "      <td>[]</td>\n",
       "      <td>en</td>\n",
       "      <td>{'raw': 'Informatik: Grundlagen - Amwendungen ...</td>\n",
       "      <td>1993.0</td>\n",
       "      <td>0.0</td>\n",
       "      <td>32</td>\n",
       "      <td>...</td>\n",
       "      <td>3-406-40338-7</td>\n",
       "      <td>[]</td>\n",
       "      <td>NaN</td>\n",
       "      <td>[{'id': '53f4d423dabfaeedd9781e23', 'name': 'O...</td>\n",
       "      <td>Conference</td>\n",
       "      <td>NaN</td>\n",
       "      <td>NaN</td>\n",
       "      <td>NaN</td>\n",
       "      <td>NaN</td>\n",
       "      <td>NaN</td>\n",
       "    </tr>\n",
       "    <tr>\n",
       "      <th>4</th>\n",
       "      <td>53e99785b7602d9701f414cb</td>\n",
       "      <td>Drift</td>\n",
       "      <td>10.1145/1186015.1186062</td>\n",
       "      <td>06</td>\n",
       "      <td>[]</td>\n",
       "      <td>en</td>\n",
       "      <td>{'raw': \"SIGGRAPH '04 ACM SIGGRAPH 2004 Comput...</td>\n",
       "      <td>2004.0</td>\n",
       "      <td>0.0</td>\n",
       "      <td>209</td>\n",
       "      <td>...</td>\n",
       "      <td>1-58113-896-2</td>\n",
       "      <td>[]</td>\n",
       "      <td>NaN</td>\n",
       "      <td>[{'id': '53f433e6dabfaeee229920b6', 'name': 'J...</td>\n",
       "      <td>Conference</td>\n",
       "      <td>NaN</td>\n",
       "      <td>NaN</td>\n",
       "      <td>NaN</td>\n",
       "      <td>NaN</td>\n",
       "      <td>NaN</td>\n",
       "    </tr>\n",
       "  </tbody>\n",
       "</table>\n",
       "<p>5 rows × 23 columns</p>\n",
       "</div>"
      ],
      "text/plain": [
       "                         id          title                       doi issue  \\\n",
       "0  53e99784b7602d9701f3ffdd          Flow.   10.1145/1280120.1280225    10   \n",
       "1  53e99785b7602d9701f41492        Dancing     10.1145/281388.281845    19   \n",
       "2  53e99785b7602d9701f414a7  Documentation  10.1007/3-540-07168-7_82   NaN   \n",
       "3  53e99785b7602d9701f414a8     Datennetze                       NaN   NaN   \n",
       "4  53e99785b7602d9701f414cb          Drift   10.1145/1186015.1186062    06   \n",
       "\n",
       "  keywords lang                                              venue    year  \\\n",
       "0       []   en                    {'raw': 'SIGGRAPH Art Gallery'}  2006.0   \n",
       "1       []   en  {'raw': 'ACM SIGGRAPH 98 Electronic art and an...  1998.0   \n",
       "2       []   en  {'raw': 'Software Engineering, An Advanced Cou...  1972.0   \n",
       "3       []   en  {'raw': 'Informatik: Grundlagen - Amwendungen ...  1993.0   \n",
       "4       []   en  {'raw': \"SIGGRAPH '04 ACM SIGGRAPH 2004 Comput...  2004.0   \n",
       "\n",
       "   n_citation page_start  ...           isbn  \\\n",
       "0        15.0        NaN  ...            NaN   \n",
       "1         0.0        116  ...  1-58113-045-7   \n",
       "2         3.0        385  ...  3-540-07168-7   \n",
       "3         0.0         32  ...  3-406-40338-7   \n",
       "4         0.0        209  ...  1-58113-896-2   \n",
       "\n",
       "                                                 url abstract  \\\n",
       "0                                                 []      NaN   \n",
       "1  ['http://dx.doi.org/10.1145/281388.281845', 'h...      NaN   \n",
       "2                                                 []      NaN   \n",
       "3                                                 []      NaN   \n",
       "4                                                 []      NaN   \n",
       "\n",
       "                                             authors    doc_type references  \\\n",
       "0  [{'id': '53f43776dabfaee0d9b6e75b', 'name': 'M...  Conference        NaN   \n",
       "1  [{'id': '53f42e86dabfaee43ebd375a', 'name': 'A...  Conference        NaN   \n",
       "2  [{'id': '53f4671bdabfaeee22a56233', 'name': 'G...  Conference        NaN   \n",
       "3  [{'id': '53f4d423dabfaeedd9781e23', 'name': 'O...  Conference        NaN   \n",
       "4  [{'id': '53f433e6dabfaeee229920b6', 'name': 'J...  Conference        NaN   \n",
       "\n",
       "   fos indexed_abstract v12_id v12_authors  \n",
       "0  NaN              NaN    NaN         NaN  \n",
       "1  NaN              NaN    NaN         NaN  \n",
       "2  NaN              NaN    NaN         NaN  \n",
       "3  NaN              NaN    NaN         NaN  \n",
       "4  NaN              NaN    NaN         NaN  \n",
       "\n",
       "[5 rows x 23 columns]"
      ]
     },
     "metadata": {},
     "output_type": "display_data"
    }
   ],
   "source": [
    "paper_orig = pd.read_csv(\"./data/dblp_v14.csv\")\n",
    "print(paper_orig.shape)\n",
    "display(paper_orig.head())"
   ]
  },
  {
   "cell_type": "code",
   "execution_count": 39,
   "metadata": {},
   "outputs": [
    {
     "data": {
      "text/html": [
       "<div>\n",
       "<style scoped>\n",
       "    .dataframe tbody tr th:only-of-type {\n",
       "        vertical-align: middle;\n",
       "    }\n",
       "\n",
       "    .dataframe tbody tr th {\n",
       "        vertical-align: top;\n",
       "    }\n",
       "\n",
       "    .dataframe thead th {\n",
       "        text-align: right;\n",
       "    }\n",
       "</style>\n",
       "<table border=\"1\" class=\"dataframe\">\n",
       "  <thead>\n",
       "    <tr style=\"text-align: right;\">\n",
       "      <th></th>\n",
       "      <th>paper_id</th>\n",
       "      <th>author_id</th>\n",
       "    </tr>\n",
       "  </thead>\n",
       "  <tbody>\n",
       "    <tr>\n",
       "      <th>0</th>\n",
       "      <td>53e99e0bb7602d97026cd68c</td>\n",
       "      <td>53f42ed2dabfaedd74d496dc</td>\n",
       "    </tr>\n",
       "    <tr>\n",
       "      <th>1</th>\n",
       "      <td>53e99e0bb7602d97026cd68c</td>\n",
       "      <td>53f42fa1dabfaee4dc735ab2</td>\n",
       "    </tr>\n",
       "    <tr>\n",
       "      <th>2</th>\n",
       "      <td>53e9a46bb7602d9702d8bf24</td>\n",
       "      <td>53f4593ddabfaec09f210d4d</td>\n",
       "    </tr>\n",
       "    <tr>\n",
       "      <th>3</th>\n",
       "      <td>53e9a46bb7602d9702d8bf24</td>\n",
       "      <td>53f6616fdabfae8dcd35b284</td>\n",
       "    </tr>\n",
       "    <tr>\n",
       "      <th>4</th>\n",
       "      <td>53e9a46bb7602d9702d8bf24</td>\n",
       "      <td>562cc45c45cedb3398cb99a5</td>\n",
       "    </tr>\n",
       "  </tbody>\n",
       "</table>\n",
       "</div>"
      ],
      "text/plain": [
       "                   paper_id                 author_id\n",
       "0  53e99e0bb7602d97026cd68c  53f42ed2dabfaedd74d496dc\n",
       "1  53e99e0bb7602d97026cd68c  53f42fa1dabfaee4dc735ab2\n",
       "2  53e9a46bb7602d9702d8bf24  53f4593ddabfaec09f210d4d\n",
       "3  53e9a46bb7602d9702d8bf24  53f6616fdabfae8dcd35b284\n",
       "4  53e9a46bb7602d9702d8bf24  562cc45c45cedb3398cb99a5"
      ]
     },
     "metadata": {},
     "output_type": "display_data"
    },
    {
     "name": "stdout",
     "output_type": "stream",
     "text": [
      "26051\n"
     ]
    }
   ],
   "source": [
    "cs_paper_author = pd.read_csv(\"./output/unique_author_published_2plus_cs_paper.csv\")\n",
    "display(cs_paper_author.head())\n",
    "list_cs_paper_for_modelling = cs_paper_author[\"paper_id\"].unique()\n",
    "print(len(list_cs_paper_for_modelling))"
   ]
  },
  {
   "cell_type": "code",
   "execution_count": 50,
   "metadata": {},
   "outputs": [
    {
     "name": "stdout",
     "output_type": "stream",
     "text": [
      "(26051, 2)\n"
     ]
    },
    {
     "data": {
      "text/html": [
       "<div>\n",
       "<style scoped>\n",
       "    .dataframe tbody tr th:only-of-type {\n",
       "        vertical-align: middle;\n",
       "    }\n",
       "\n",
       "    .dataframe tbody tr th {\n",
       "        vertical-align: top;\n",
       "    }\n",
       "\n",
       "    .dataframe thead th {\n",
       "        text-align: right;\n",
       "    }\n",
       "</style>\n",
       "<table border=\"1\" class=\"dataframe\">\n",
       "  <thead>\n",
       "    <tr style=\"text-align: right;\">\n",
       "      <th></th>\n",
       "      <th>id</th>\n",
       "      <th>authors</th>\n",
       "    </tr>\n",
       "  </thead>\n",
       "  <tbody>\n",
       "    <tr>\n",
       "      <th>621</th>\n",
       "      <td>53e99e0bb7602d97026cd68c</td>\n",
       "      <td>[{'id': '53f42ed2dabfaedd74d496dc', 'name': 'A...</td>\n",
       "    </tr>\n",
       "    <tr>\n",
       "      <th>956</th>\n",
       "      <td>53e9a46bb7602d9702d8bf24</td>\n",
       "      <td>[{'id': '53f4593ddabfaec09f210d4d', 'name': 'P...</td>\n",
       "    </tr>\n",
       "    <tr>\n",
       "      <th>1248</th>\n",
       "      <td>53e9aa95b7602d970340d56c</td>\n",
       "      <td>[{'id': '53f55899dabfae387ff8045b', 'name': 'G...</td>\n",
       "    </tr>\n",
       "    <tr>\n",
       "      <th>1342</th>\n",
       "      <td>53e9abfeb7602d97035bf400</td>\n",
       "      <td>[{'id': '', 'name': 'Hector Garcia-molina', 'o...</td>\n",
       "    </tr>\n",
       "    <tr>\n",
       "      <th>1344</th>\n",
       "      <td>53e9ac05b7602d97035c29f5</td>\n",
       "      <td>[{'id': '560923b145cedb3396e2f7fb', 'name': 'D...</td>\n",
       "    </tr>\n",
       "  </tbody>\n",
       "</table>\n",
       "</div>"
      ],
      "text/plain": [
       "                            id  \\\n",
       "621   53e99e0bb7602d97026cd68c   \n",
       "956   53e9a46bb7602d9702d8bf24   \n",
       "1248  53e9aa95b7602d970340d56c   \n",
       "1342  53e9abfeb7602d97035bf400   \n",
       "1344  53e9ac05b7602d97035c29f5   \n",
       "\n",
       "                                                authors  \n",
       "621   [{'id': '53f42ed2dabfaedd74d496dc', 'name': 'A...  \n",
       "956   [{'id': '53f4593ddabfaec09f210d4d', 'name': 'P...  \n",
       "1248  [{'id': '53f55899dabfae387ff8045b', 'name': 'G...  \n",
       "1342  [{'id': '', 'name': 'Hector Garcia-molina', 'o...  \n",
       "1344  [{'id': '560923b145cedb3396e2f7fb', 'name': 'D...  "
      ]
     },
     "metadata": {},
     "output_type": "display_data"
    }
   ],
   "source": [
    "paper_orig_ = paper_orig[paper_orig[\"id\"].isin(list_cs_paper_for_modelling)][[\"id\", \"authors\"]]\n",
    "print(paper_orig_.shape)\n",
    "display(paper_orig_.head())"
   ]
  },
  {
   "cell_type": "code",
   "execution_count": 51,
   "metadata": {},
   "outputs": [
    {
     "data": {
      "text/plain": [
       "\"[{'id': '', 'name': 'Hector Garcia-molina', 'org': ''}, {'id': '53f39f3adabfae4b34aaed9f', 'name': 'Wilburt Juan Labio', 'org': ''}, {'id': '53f43104dabfaee1c0a62a9f', 'name': 'Jun Yang', 'org': ''}]\""
      ]
     },
     "execution_count": 51,
     "metadata": {},
     "output_type": "execute_result"
    }
   ],
   "source": [
    "paper_orig_.iloc[3][\"authors\"]"
   ]
  },
  {
   "cell_type": "code",
   "execution_count": 52,
   "metadata": {},
   "outputs": [
    {
     "name": "stdout",
     "output_type": "stream",
     "text": [
      "(26051, 3)\n"
     ]
    },
    {
     "data": {
      "text/html": [
       "<div>\n",
       "<style scoped>\n",
       "    .dataframe tbody tr th:only-of-type {\n",
       "        vertical-align: middle;\n",
       "    }\n",
       "\n",
       "    .dataframe tbody tr th {\n",
       "        vertical-align: top;\n",
       "    }\n",
       "\n",
       "    .dataframe thead th {\n",
       "        text-align: right;\n",
       "    }\n",
       "</style>\n",
       "<table border=\"1\" class=\"dataframe\">\n",
       "  <thead>\n",
       "    <tr style=\"text-align: right;\">\n",
       "      <th></th>\n",
       "      <th>id</th>\n",
       "      <th>authors</th>\n",
       "      <th>author_list</th>\n",
       "    </tr>\n",
       "  </thead>\n",
       "  <tbody>\n",
       "    <tr>\n",
       "      <th>621</th>\n",
       "      <td>53e99e0bb7602d97026cd68c</td>\n",
       "      <td>[{'id': '53f42ed2dabfaedd74d496dc', 'name': 'A...</td>\n",
       "      <td>[{'id': '53f42ed2dabfaedd74d496dc', 'name': 'A...</td>\n",
       "    </tr>\n",
       "    <tr>\n",
       "      <th>956</th>\n",
       "      <td>53e9a46bb7602d9702d8bf24</td>\n",
       "      <td>[{'id': '53f4593ddabfaec09f210d4d', 'name': 'P...</td>\n",
       "      <td>[{'id': '53f4593ddabfaec09f210d4d', 'name': 'P...</td>\n",
       "    </tr>\n",
       "    <tr>\n",
       "      <th>1248</th>\n",
       "      <td>53e9aa95b7602d970340d56c</td>\n",
       "      <td>[{'id': '53f55899dabfae387ff8045b', 'name': 'G...</td>\n",
       "      <td>[{'id': '53f55899dabfae387ff8045b', 'name': 'G...</td>\n",
       "    </tr>\n",
       "    <tr>\n",
       "      <th>1342</th>\n",
       "      <td>53e9abfeb7602d97035bf400</td>\n",
       "      <td>[{'id': '', 'name': 'Hector Garcia-molina', 'o...</td>\n",
       "      <td>[{'id': '', 'name': 'Hector Garcia-molina', 'o...</td>\n",
       "    </tr>\n",
       "    <tr>\n",
       "      <th>1344</th>\n",
       "      <td>53e9ac05b7602d97035c29f5</td>\n",
       "      <td>[{'id': '560923b145cedb3396e2f7fb', 'name': 'D...</td>\n",
       "      <td>[{'id': '560923b145cedb3396e2f7fb', 'name': 'D...</td>\n",
       "    </tr>\n",
       "  </tbody>\n",
       "</table>\n",
       "</div>"
      ],
      "text/plain": [
       "                            id  \\\n",
       "621   53e99e0bb7602d97026cd68c   \n",
       "956   53e9a46bb7602d9702d8bf24   \n",
       "1248  53e9aa95b7602d970340d56c   \n",
       "1342  53e9abfeb7602d97035bf400   \n",
       "1344  53e9ac05b7602d97035c29f5   \n",
       "\n",
       "                                                authors  \\\n",
       "621   [{'id': '53f42ed2dabfaedd74d496dc', 'name': 'A...   \n",
       "956   [{'id': '53f4593ddabfaec09f210d4d', 'name': 'P...   \n",
       "1248  [{'id': '53f55899dabfae387ff8045b', 'name': 'G...   \n",
       "1342  [{'id': '', 'name': 'Hector Garcia-molina', 'o...   \n",
       "1344  [{'id': '560923b145cedb3396e2f7fb', 'name': 'D...   \n",
       "\n",
       "                                            author_list  \n",
       "621   [{'id': '53f42ed2dabfaedd74d496dc', 'name': 'A...  \n",
       "956   [{'id': '53f4593ddabfaec09f210d4d', 'name': 'P...  \n",
       "1248  [{'id': '53f55899dabfae387ff8045b', 'name': 'G...  \n",
       "1342  [{'id': '', 'name': 'Hector Garcia-molina', 'o...  \n",
       "1344  [{'id': '560923b145cedb3396e2f7fb', 'name': 'D...  "
      ]
     },
     "metadata": {},
     "output_type": "display_data"
    }
   ],
   "source": [
    "paper_orig_[\"author_list\"] = paper_orig_[\"authors\"].apply(string_to_python)\n",
    "print(paper_orig_.shape)\n",
    "display(paper_orig_.head())"
   ]
  },
  {
   "cell_type": "code",
   "execution_count": 53,
   "metadata": {},
   "outputs": [
    {
     "name": "stdout",
     "output_type": "stream",
     "text": [
      "(26051, 4)\n"
     ]
    },
    {
     "data": {
      "text/html": [
       "<div>\n",
       "<style scoped>\n",
       "    .dataframe tbody tr th:only-of-type {\n",
       "        vertical-align: middle;\n",
       "    }\n",
       "\n",
       "    .dataframe tbody tr th {\n",
       "        vertical-align: top;\n",
       "    }\n",
       "\n",
       "    .dataframe thead th {\n",
       "        text-align: right;\n",
       "    }\n",
       "</style>\n",
       "<table border=\"1\" class=\"dataframe\">\n",
       "  <thead>\n",
       "    <tr style=\"text-align: right;\">\n",
       "      <th></th>\n",
       "      <th>id</th>\n",
       "      <th>authors</th>\n",
       "      <th>author_list</th>\n",
       "      <th>team</th>\n",
       "    </tr>\n",
       "  </thead>\n",
       "  <tbody>\n",
       "    <tr>\n",
       "      <th>621</th>\n",
       "      <td>53e99e0bb7602d97026cd68c</td>\n",
       "      <td>[{'id': '53f42ed2dabfaedd74d496dc', 'name': 'A...</td>\n",
       "      <td>[{'id': '53f42ed2dabfaedd74d496dc', 'name': 'A...</td>\n",
       "      <td>[53f42ed2dabfaedd74d496dc, 53f42fa1dabfaee4dc7...</td>\n",
       "    </tr>\n",
       "    <tr>\n",
       "      <th>956</th>\n",
       "      <td>53e9a46bb7602d9702d8bf24</td>\n",
       "      <td>[{'id': '53f4593ddabfaec09f210d4d', 'name': 'P...</td>\n",
       "      <td>[{'id': '53f4593ddabfaec09f210d4d', 'name': 'P...</td>\n",
       "      <td>[53f4593ddabfaec09f210d4d, 53f6616fdabfae8dcd3...</td>\n",
       "    </tr>\n",
       "    <tr>\n",
       "      <th>1248</th>\n",
       "      <td>53e9aa95b7602d970340d56c</td>\n",
       "      <td>[{'id': '53f55899dabfae387ff8045b', 'name': 'G...</td>\n",
       "      <td>[{'id': '53f55899dabfae387ff8045b', 'name': 'G...</td>\n",
       "      <td>[53f55899dabfae387ff8045b, 53f46832dabfaedce55...</td>\n",
       "    </tr>\n",
       "    <tr>\n",
       "      <th>1342</th>\n",
       "      <td>53e9abfeb7602d97035bf400</td>\n",
       "      <td>[{'id': '', 'name': 'Hector Garcia-molina', 'o...</td>\n",
       "      <td>[{'id': '', 'name': 'Hector Garcia-molina', 'o...</td>\n",
       "      <td>[53f39f3adabfae4b34aaed9f, 53f43104dabfaee1c0a...</td>\n",
       "    </tr>\n",
       "    <tr>\n",
       "      <th>1344</th>\n",
       "      <td>53e9ac05b7602d97035c29f5</td>\n",
       "      <td>[{'id': '560923b145cedb3396e2f7fb', 'name': 'D...</td>\n",
       "      <td>[{'id': '560923b145cedb3396e2f7fb', 'name': 'D...</td>\n",
       "      <td>[560923b145cedb3396e2f7fb, 53f64fd4dabfae6a71b...</td>\n",
       "    </tr>\n",
       "  </tbody>\n",
       "</table>\n",
       "</div>"
      ],
      "text/plain": [
       "                            id  \\\n",
       "621   53e99e0bb7602d97026cd68c   \n",
       "956   53e9a46bb7602d9702d8bf24   \n",
       "1248  53e9aa95b7602d970340d56c   \n",
       "1342  53e9abfeb7602d97035bf400   \n",
       "1344  53e9ac05b7602d97035c29f5   \n",
       "\n",
       "                                                authors  \\\n",
       "621   [{'id': '53f42ed2dabfaedd74d496dc', 'name': 'A...   \n",
       "956   [{'id': '53f4593ddabfaec09f210d4d', 'name': 'P...   \n",
       "1248  [{'id': '53f55899dabfae387ff8045b', 'name': 'G...   \n",
       "1342  [{'id': '', 'name': 'Hector Garcia-molina', 'o...   \n",
       "1344  [{'id': '560923b145cedb3396e2f7fb', 'name': 'D...   \n",
       "\n",
       "                                            author_list  \\\n",
       "621   [{'id': '53f42ed2dabfaedd74d496dc', 'name': 'A...   \n",
       "956   [{'id': '53f4593ddabfaec09f210d4d', 'name': 'P...   \n",
       "1248  [{'id': '53f55899dabfae387ff8045b', 'name': 'G...   \n",
       "1342  [{'id': '', 'name': 'Hector Garcia-molina', 'o...   \n",
       "1344  [{'id': '560923b145cedb3396e2f7fb', 'name': 'D...   \n",
       "\n",
       "                                                   team  \n",
       "621   [53f42ed2dabfaedd74d496dc, 53f42fa1dabfaee4dc7...  \n",
       "956   [53f4593ddabfaec09f210d4d, 53f6616fdabfae8dcd3...  \n",
       "1248  [53f55899dabfae387ff8045b, 53f46832dabfaedce55...  \n",
       "1342  [53f39f3adabfae4b34aaed9f, 53f43104dabfaee1c0a...  \n",
       "1344  [560923b145cedb3396e2f7fb, 53f64fd4dabfae6a71b...  "
      ]
     },
     "metadata": {},
     "output_type": "display_data"
    }
   ],
   "source": [
    "paper_orig_[\"team\"] = paper_orig_[\"author_list\"].apply(extract_ids)\n",
    "print(paper_orig_.shape)\n",
    "display(paper_orig_.head())"
   ]
  },
  {
   "cell_type": "code",
   "execution_count": 55,
   "metadata": {},
   "outputs": [
    {
     "data": {
      "text/plain": [
       "['53f39f3adabfae4b34aaed9f', '53f43104dabfaee1c0a62a9f']"
      ]
     },
     "execution_count": 55,
     "metadata": {},
     "output_type": "execute_result"
    }
   ],
   "source": [
    "paper_orig_.iloc[3][\"team\"]"
   ]
  },
  {
   "cell_type": "code",
   "execution_count": 60,
   "metadata": {},
   "outputs": [],
   "source": [
    "paper_orig_[\"team_member_cnt\"] = paper_orig_[\"team\"].apply(len)"
   ]
  },
  {
   "cell_type": "code",
   "execution_count": 61,
   "metadata": {},
   "outputs": [
    {
     "name": "stdout",
     "output_type": "stream",
     "text": [
      "(26051, 5)\n"
     ]
    },
    {
     "data": {
      "text/html": [
       "<div>\n",
       "<style scoped>\n",
       "    .dataframe tbody tr th:only-of-type {\n",
       "        vertical-align: middle;\n",
       "    }\n",
       "\n",
       "    .dataframe tbody tr th {\n",
       "        vertical-align: top;\n",
       "    }\n",
       "\n",
       "    .dataframe thead th {\n",
       "        text-align: right;\n",
       "    }\n",
       "</style>\n",
       "<table border=\"1\" class=\"dataframe\">\n",
       "  <thead>\n",
       "    <tr style=\"text-align: right;\">\n",
       "      <th></th>\n",
       "      <th>id</th>\n",
       "      <th>authors</th>\n",
       "      <th>author_list</th>\n",
       "      <th>team</th>\n",
       "      <th>team_member_cnt</th>\n",
       "    </tr>\n",
       "  </thead>\n",
       "  <tbody>\n",
       "    <tr>\n",
       "      <th>621</th>\n",
       "      <td>53e99e0bb7602d97026cd68c</td>\n",
       "      <td>[{'id': '53f42ed2dabfaedd74d496dc', 'name': 'A...</td>\n",
       "      <td>[{'id': '53f42ed2dabfaedd74d496dc', 'name': 'A...</td>\n",
       "      <td>[53f42ed2dabfaedd74d496dc, 53f42fa1dabfaee4dc7...</td>\n",
       "      <td>2</td>\n",
       "    </tr>\n",
       "    <tr>\n",
       "      <th>956</th>\n",
       "      <td>53e9a46bb7602d9702d8bf24</td>\n",
       "      <td>[{'id': '53f4593ddabfaec09f210d4d', 'name': 'P...</td>\n",
       "      <td>[{'id': '53f4593ddabfaec09f210d4d', 'name': 'P...</td>\n",
       "      <td>[53f4593ddabfaec09f210d4d, 53f6616fdabfae8dcd3...</td>\n",
       "      <td>3</td>\n",
       "    </tr>\n",
       "    <tr>\n",
       "      <th>1248</th>\n",
       "      <td>53e9aa95b7602d970340d56c</td>\n",
       "      <td>[{'id': '53f55899dabfae387ff8045b', 'name': 'G...</td>\n",
       "      <td>[{'id': '53f55899dabfae387ff8045b', 'name': 'G...</td>\n",
       "      <td>[53f55899dabfae387ff8045b, 53f46832dabfaedce55...</td>\n",
       "      <td>4</td>\n",
       "    </tr>\n",
       "    <tr>\n",
       "      <th>1342</th>\n",
       "      <td>53e9abfeb7602d97035bf400</td>\n",
       "      <td>[{'id': '', 'name': 'Hector Garcia-molina', 'o...</td>\n",
       "      <td>[{'id': '', 'name': 'Hector Garcia-molina', 'o...</td>\n",
       "      <td>[53f39f3adabfae4b34aaed9f, 53f43104dabfaee1c0a...</td>\n",
       "      <td>2</td>\n",
       "    </tr>\n",
       "    <tr>\n",
       "      <th>1344</th>\n",
       "      <td>53e9ac05b7602d97035c29f5</td>\n",
       "      <td>[{'id': '560923b145cedb3396e2f7fb', 'name': 'D...</td>\n",
       "      <td>[{'id': '560923b145cedb3396e2f7fb', 'name': 'D...</td>\n",
       "      <td>[560923b145cedb3396e2f7fb, 53f64fd4dabfae6a71b...</td>\n",
       "      <td>2</td>\n",
       "    </tr>\n",
       "  </tbody>\n",
       "</table>\n",
       "</div>"
      ],
      "text/plain": [
       "                            id  \\\n",
       "621   53e99e0bb7602d97026cd68c   \n",
       "956   53e9a46bb7602d9702d8bf24   \n",
       "1248  53e9aa95b7602d970340d56c   \n",
       "1342  53e9abfeb7602d97035bf400   \n",
       "1344  53e9ac05b7602d97035c29f5   \n",
       "\n",
       "                                                authors  \\\n",
       "621   [{'id': '53f42ed2dabfaedd74d496dc', 'name': 'A...   \n",
       "956   [{'id': '53f4593ddabfaec09f210d4d', 'name': 'P...   \n",
       "1248  [{'id': '53f55899dabfae387ff8045b', 'name': 'G...   \n",
       "1342  [{'id': '', 'name': 'Hector Garcia-molina', 'o...   \n",
       "1344  [{'id': '560923b145cedb3396e2f7fb', 'name': 'D...   \n",
       "\n",
       "                                            author_list  \\\n",
       "621   [{'id': '53f42ed2dabfaedd74d496dc', 'name': 'A...   \n",
       "956   [{'id': '53f4593ddabfaec09f210d4d', 'name': 'P...   \n",
       "1248  [{'id': '53f55899dabfae387ff8045b', 'name': 'G...   \n",
       "1342  [{'id': '', 'name': 'Hector Garcia-molina', 'o...   \n",
       "1344  [{'id': '560923b145cedb3396e2f7fb', 'name': 'D...   \n",
       "\n",
       "                                                   team  team_member_cnt  \n",
       "621   [53f42ed2dabfaedd74d496dc, 53f42fa1dabfaee4dc7...                2  \n",
       "956   [53f4593ddabfaec09f210d4d, 53f6616fdabfae8dcd3...                3  \n",
       "1248  [53f55899dabfae387ff8045b, 53f46832dabfaedce55...                4  \n",
       "1342  [53f39f3adabfae4b34aaed9f, 53f43104dabfaee1c0a...                2  \n",
       "1344  [560923b145cedb3396e2f7fb, 53f64fd4dabfae6a71b...                2  "
      ]
     },
     "metadata": {},
     "output_type": "display_data"
    }
   ],
   "source": [
    "print(paper_orig_.shape)\n",
    "display(paper_orig_.head())"
   ]
  },
  {
   "cell_type": "code",
   "execution_count": 65,
   "metadata": {},
   "outputs": [
    {
     "data": {
      "image/png": "[encoded data removed]",
      "text/plain": [
       "<Figure size 640x480 with 1 Axes>"
      ]
     },
     "metadata": {},
     "output_type": "display_data"
    },
    {
     "data": {
      "text/plain": [
       "<Figure size 640x480 with 0 Axes>"
      ]
     },
     "metadata": {},
     "output_type": "display_data"
    }
   ],
   "source": [
    "eda(paper_orig_, [\"team_member_cnt\"])"
   ]
  },
  {
   "cell_type": "code",
   "execution_count": 70,
   "metadata": {},
   "outputs": [
    {
     "data": {
      "text/plain": [
       "count    26051.000000\n",
       "mean         3.102107\n",
       "std          1.214727\n",
       "min          2.000000\n",
       "25%          2.000000\n",
       "50%          3.000000\n",
       "75%          4.000000\n",
       "max         17.000000\n",
       "Name: team_member_cnt, dtype: float64"
      ]
     },
     "execution_count": 70,
     "metadata": {},
     "output_type": "execute_result"
    }
   ],
   "source": [
    "paper_orig_[\"team_member_cnt\"].describe()"
   ]
  },
  {
   "cell_type": "code",
   "execution_count": 72,
   "metadata": {},
   "outputs": [
    {
     "name": "stdout",
     "output_type": "stream",
     "text": [
      "26051\n",
      "25997\n",
      "54\n",
      "0.20728570880196537\n",
      "26037\n",
      "14\n",
      "0.053740739319028064\n"
     ]
    }
   ],
   "source": [
    "print(paper_orig_.shape[0])\n",
    "print(paper_orig_[paper_orig_[\"team_member_cnt\"]<=8].shape[0])\n",
    "print(paper_orig_[paper_orig_[\"team_member_cnt\"]>8].shape[0])\n",
    "print(paper_orig_[paper_orig_[\"team_member_cnt\"]>8].shape[0]/paper_orig_.shape[0] *100)\n",
    "print(paper_orig_[paper_orig_[\"team_member_cnt\"]<=10].shape[0])\n",
    "print(paper_orig_[paper_orig_[\"team_member_cnt\"]>10].shape[0])\n",
    "print(paper_orig_[paper_orig_[\"team_member_cnt\"]>10].shape[0]/paper_orig_.shape[0] *100)"
   ]
  },
  {
   "cell_type": "code",
   "execution_count": 73,
   "metadata": {},
   "outputs": [
    {
     "name": "stdout",
     "output_type": "stream",
     "text": [
      "(26051, 2)\n"
     ]
    },
    {
     "data": {
      "text/html": [
       "<div>\n",
       "<style scoped>\n",
       "    .dataframe tbody tr th:only-of-type {\n",
       "        vertical-align: middle;\n",
       "    }\n",
       "\n",
       "    .dataframe tbody tr th {\n",
       "        vertical-align: top;\n",
       "    }\n",
       "\n",
       "    .dataframe thead th {\n",
       "        text-align: right;\n",
       "    }\n",
       "</style>\n",
       "<table border=\"1\" class=\"dataframe\">\n",
       "  <thead>\n",
       "    <tr style=\"text-align: right;\">\n",
       "      <th></th>\n",
       "      <th>id</th>\n",
       "      <th>team</th>\n",
       "    </tr>\n",
       "  </thead>\n",
       "  <tbody>\n",
       "    <tr>\n",
       "      <th>621</th>\n",
       "      <td>53e99e0bb7602d97026cd68c</td>\n",
       "      <td>[53f42ed2dabfaedd74d496dc, 53f42fa1dabfaee4dc7...</td>\n",
       "    </tr>\n",
       "    <tr>\n",
       "      <th>956</th>\n",
       "      <td>53e9a46bb7602d9702d8bf24</td>\n",
       "      <td>[53f4593ddabfaec09f210d4d, 53f6616fdabfae8dcd3...</td>\n",
       "    </tr>\n",
       "    <tr>\n",
       "      <th>1248</th>\n",
       "      <td>53e9aa95b7602d970340d56c</td>\n",
       "      <td>[53f55899dabfae387ff8045b, 53f46832dabfaedce55...</td>\n",
       "    </tr>\n",
       "    <tr>\n",
       "      <th>1342</th>\n",
       "      <td>53e9abfeb7602d97035bf400</td>\n",
       "      <td>[53f39f3adabfae4b34aaed9f, 53f43104dabfaee1c0a...</td>\n",
       "    </tr>\n",
       "    <tr>\n",
       "      <th>1344</th>\n",
       "      <td>53e9ac05b7602d97035c29f5</td>\n",
       "      <td>[560923b145cedb3396e2f7fb, 53f64fd4dabfae6a71b...</td>\n",
       "    </tr>\n",
       "  </tbody>\n",
       "</table>\n",
       "</div>"
      ],
      "text/plain": [
       "                            id  \\\n",
       "621   53e99e0bb7602d97026cd68c   \n",
       "956   53e9a46bb7602d9702d8bf24   \n",
       "1248  53e9aa95b7602d970340d56c   \n",
       "1342  53e9abfeb7602d97035bf400   \n",
       "1344  53e9ac05b7602d97035c29f5   \n",
       "\n",
       "                                                   team  \n",
       "621   [53f42ed2dabfaedd74d496dc, 53f42fa1dabfaee4dc7...  \n",
       "956   [53f4593ddabfaec09f210d4d, 53f6616fdabfae8dcd3...  \n",
       "1248  [53f55899dabfae387ff8045b, 53f46832dabfaedce55...  \n",
       "1342  [53f39f3adabfae4b34aaed9f, 53f43104dabfaee1c0a...  \n",
       "1344  [560923b145cedb3396e2f7fb, 53f64fd4dabfae6a71b...  "
      ]
     },
     "metadata": {},
     "output_type": "display_data"
    }
   ],
   "source": [
    "team = paper_orig_[[\"id\", \"team\"]]\n",
    "print(team.shape)\n",
    "display(team.head())"
   ]
  },
  {
   "cell_type": "markdown",
   "metadata": {},
   "source": [
    "## Merge the 3 datasets"
   ]
  },
  {
   "cell_type": "code",
   "execution_count": 47,
   "metadata": {},
   "outputs": [
    {
     "name": "stdout",
     "output_type": "stream",
     "text": [
      "(64064, 2)\n",
      "(64064, 3)\n"
     ]
    },
    {
     "data": {
      "text/html": [
       "<div>\n",
       "<style scoped>\n",
       "    .dataframe tbody tr th:only-of-type {\n",
       "        vertical-align: middle;\n",
       "    }\n",
       "\n",
       "    .dataframe tbody tr th {\n",
       "        vertical-align: top;\n",
       "    }\n",
       "\n",
       "    .dataframe thead th {\n",
       "        text-align: right;\n",
       "    }\n",
       "</style>\n",
       "<table border=\"1\" class=\"dataframe\">\n",
       "  <thead>\n",
       "    <tr style=\"text-align: right;\">\n",
       "      <th></th>\n",
       "      <th>id</th>\n",
       "      <th>expertise</th>\n",
       "      <th>abstract</th>\n",
       "    </tr>\n",
       "  </thead>\n",
       "  <tbody>\n",
       "    <tr>\n",
       "      <th>0</th>\n",
       "      <td>53e9a0edb7602d97029d45c4</td>\n",
       "      <td>[Mathematics, Discrete Mathematics, Graph Theo...</td>\n",
       "      <td>We show that there is no log 1 over 3-ε M appr...</td>\n",
       "    </tr>\n",
       "    <tr>\n",
       "      <th>1</th>\n",
       "      <td>53e9b5cfb7602d970411c8a3</td>\n",
       "      <td>[Machine Learning, Data Science, Statistical A...</td>\n",
       "      <td>Maximum margin discriminant analysis (MMDA) wa...</td>\n",
       "    </tr>\n",
       "    <tr>\n",
       "      <th>2</th>\n",
       "      <td>599c7ef9601a182cd28ddd55</td>\n",
       "      <td>[Mathematical optimization, Linear programming...</td>\n",
       "      <td>Online multi-kernel learning is promising in t...</td>\n",
       "    </tr>\n",
       "    <tr>\n",
       "      <th>3</th>\n",
       "      <td>5cfa5b985ced2477cb3c5177</td>\n",
       "      <td>[Computer Science, Data Science, Data Engineer...</td>\n",
       "      <td>The range-based skyline (r-skyline) query on r...</td>\n",
       "    </tr>\n",
       "    <tr>\n",
       "      <th>4</th>\n",
       "      <td>57d06412ac4436735429bbfe</td>\n",
       "      <td>[Computer Science, Data Mining, Cloud Computin...</td>\n",
       "      <td>In this demo, we present FERARI, a prototype t...</td>\n",
       "    </tr>\n",
       "  </tbody>\n",
       "</table>\n",
       "</div>"
      ],
      "text/plain": [
       "                         id  \\\n",
       "0  53e9a0edb7602d97029d45c4   \n",
       "1  53e9b5cfb7602d970411c8a3   \n",
       "2  599c7ef9601a182cd28ddd55   \n",
       "3  5cfa5b985ced2477cb3c5177   \n",
       "4  57d06412ac4436735429bbfe   \n",
       "\n",
       "                                           expertise  \\\n",
       "0  [Mathematics, Discrete Mathematics, Graph Theo...   \n",
       "1  [Machine Learning, Data Science, Statistical A...   \n",
       "2  [Mathematical optimization, Linear programming...   \n",
       "3  [Computer Science, Data Science, Data Engineer...   \n",
       "4  [Computer Science, Data Mining, Cloud Computin...   \n",
       "\n",
       "                                            abstract  \n",
       "0  We show that there is no log 1 over 3-ε M appr...  \n",
       "1  Maximum margin discriminant analysis (MMDA) wa...  \n",
       "2  Online multi-kernel learning is promising in t...  \n",
       "3  The range-based skyline (r-skyline) query on r...  \n",
       "4  In this demo, we present FERARI, a prototype t...  "
      ]
     },
     "metadata": {},
     "output_type": "display_data"
    }
   ],
   "source": [
    "# Merge paper and expertise dataframes on 'paper_id'\n",
    "df_ = pd.merge(df_expertise, paper, left_on= \"id\", right_on= 'id', how='left')\n",
    "print(df_expertise.shape)\n",
    "print(df_.shape)\n",
    "display(df_.head())"
   ]
  },
  {
   "cell_type": "code",
   "execution_count": 81,
   "metadata": {},
   "outputs": [
    {
     "name": "stdout",
     "output_type": "stream",
     "text": [
      "(26051, 2)\n",
      "(64064, 3)\n",
      "(26051, 4)\n",
      "id                  0\n",
      "team                0\n",
      "expertise           0\n",
      "task_description    0\n",
      "dtype: int64\n"
     ]
    },
    {
     "data": {
      "text/html": [
       "<div>\n",
       "<style scoped>\n",
       "    .dataframe tbody tr th:only-of-type {\n",
       "        vertical-align: middle;\n",
       "    }\n",
       "\n",
       "    .dataframe tbody tr th {\n",
       "        vertical-align: top;\n",
       "    }\n",
       "\n",
       "    .dataframe thead th {\n",
       "        text-align: right;\n",
       "    }\n",
       "</style>\n",
       "<table border=\"1\" class=\"dataframe\">\n",
       "  <thead>\n",
       "    <tr style=\"text-align: right;\">\n",
       "      <th></th>\n",
       "      <th>id</th>\n",
       "      <th>team</th>\n",
       "      <th>expertise</th>\n",
       "      <th>task_description</th>\n",
       "    </tr>\n",
       "  </thead>\n",
       "  <tbody>\n",
       "    <tr>\n",
       "      <th>0</th>\n",
       "      <td>53e99e0bb7602d97026cd68c</td>\n",
       "      <td>[53f42ed2dabfaedd74d496dc, 53f42fa1dabfaee4dc7...</td>\n",
       "      <td>[Machine Learning, Artificial Intelligence, Pa...</td>\n",
       "      <td>The paper shows how a text classifier's need f...</td>\n",
       "    </tr>\n",
       "    <tr>\n",
       "      <th>1</th>\n",
       "      <td>53e9a46bb7602d9702d8bf24</td>\n",
       "      <td>[53f4593ddabfaec09f210d4d, 53f6616fdabfae8dcd3...</td>\n",
       "      <td>[Mathematics, Data Science, Machine Learning, ...</td>\n",
       "      <td>A topological approach to stratification learn...</td>\n",
       "    </tr>\n",
       "    <tr>\n",
       "      <th>2</th>\n",
       "      <td>53e9aa95b7602d970340d56c</td>\n",
       "      <td>[53f55899dabfae387ff8045b, 53f46832dabfaedce55...</td>\n",
       "      <td>[Computer Science, Database Systems, Transacti...</td>\n",
       "      <td>In recent years, databases have started to be...</td>\n",
       "    </tr>\n",
       "    <tr>\n",
       "      <th>3</th>\n",
       "      <td>53e9abfeb7602d97035bf400</td>\n",
       "      <td>[53f39f3adabfae4b34aaed9f, 53f43104dabfaee1c0a...</td>\n",
       "      <td>[Computer Science, Database Management, Data W...</td>\n",
       "      <td>Data warehouses are used to collect and analy...</td>\n",
       "    </tr>\n",
       "    <tr>\n",
       "      <th>4</th>\n",
       "      <td>53e9ac05b7602d97035c29f5</td>\n",
       "      <td>[560923b145cedb3396e2f7fb, 53f64fd4dabfae6a71b...</td>\n",
       "      <td>[Computer Science, Discrete Mathematics, Graph...</td>\n",
       "      <td>We are given a transition system implicitly th...</td>\n",
       "    </tr>\n",
       "  </tbody>\n",
       "</table>\n",
       "</div>"
      ],
      "text/plain": [
       "                         id  \\\n",
       "0  53e99e0bb7602d97026cd68c   \n",
       "1  53e9a46bb7602d9702d8bf24   \n",
       "2  53e9aa95b7602d970340d56c   \n",
       "3  53e9abfeb7602d97035bf400   \n",
       "4  53e9ac05b7602d97035c29f5   \n",
       "\n",
       "                                                team  \\\n",
       "0  [53f42ed2dabfaedd74d496dc, 53f42fa1dabfaee4dc7...   \n",
       "1  [53f4593ddabfaec09f210d4d, 53f6616fdabfae8dcd3...   \n",
       "2  [53f55899dabfae387ff8045b, 53f46832dabfaedce55...   \n",
       "3  [53f39f3adabfae4b34aaed9f, 53f43104dabfaee1c0a...   \n",
       "4  [560923b145cedb3396e2f7fb, 53f64fd4dabfae6a71b...   \n",
       "\n",
       "                                           expertise  \\\n",
       "0  [Machine Learning, Artificial Intelligence, Pa...   \n",
       "1  [Mathematics, Data Science, Machine Learning, ...   \n",
       "2  [Computer Science, Database Systems, Transacti...   \n",
       "3  [Computer Science, Database Management, Data W...   \n",
       "4  [Computer Science, Discrete Mathematics, Graph...   \n",
       "\n",
       "                                    task_description  \n",
       "0  The paper shows how a text classifier's need f...  \n",
       "1  A topological approach to stratification learn...  \n",
       "2   In recent years, databases have started to be...  \n",
       "3   Data warehouses are used to collect and analy...  \n",
       "4  We are given a transition system implicitly th...  "
      ]
     },
     "metadata": {},
     "output_type": "display_data"
    }
   ],
   "source": [
    "df = pd.merge(team, df_, left_on = \"id\", right_on='id', how='left')\n",
    "df = df.rename(columns = {\"abstract\": \"task_description\"})\n",
    "print(team.shape)\n",
    "print(df_.shape)\n",
    "print(df.shape)\n",
    "print(df.isna().sum())\n",
    "display(df.head())"
   ]
  },
  {
   "cell_type": "code",
   "execution_count": 78,
   "metadata": {},
   "outputs": [],
   "source": [
    "# df = pd.merge(df_, df_author, left_on = \"id\", right_on='paper_id', how='left')\n",
    "# print(df.shape)\n",
    "# print(df.isna().sum())\n",
    "# df = df.drop(columns = [\"paper_id\"])\n",
    "# display(df.head())\n",
    "\n",
    "# df = df[~df[\"id\"].isin(list_paper_contain_author_lessthan5paper)]\n",
    "# print(df.shape)"
   ]
  },
  {
   "cell_type": "markdown",
   "metadata": {},
   "source": [
    "## Combine the expertice and abstract column"
   ]
  },
  {
   "cell_type": "code",
   "execution_count": 82,
   "metadata": {},
   "outputs": [],
   "source": [
    "df['input'] = df.apply(lambda row: f\"Queries: {', '.join(row['expertise'])}.\\nContext: {row['task_description']}\", axis=1)\n"
   ]
  },
  {
   "cell_type": "code",
   "execution_count": 83,
   "metadata": {},
   "outputs": [
    {
     "data": {
      "text/html": [
       "<div>\n",
       "<style scoped>\n",
       "    .dataframe tbody tr th:only-of-type {\n",
       "        vertical-align: middle;\n",
       "    }\n",
       "\n",
       "    .dataframe tbody tr th {\n",
       "        vertical-align: top;\n",
       "    }\n",
       "\n",
       "    .dataframe thead th {\n",
       "        text-align: right;\n",
       "    }\n",
       "</style>\n",
       "<table border=\"1\" class=\"dataframe\">\n",
       "  <thead>\n",
       "    <tr style=\"text-align: right;\">\n",
       "      <th></th>\n",
       "      <th>id</th>\n",
       "      <th>team</th>\n",
       "      <th>expertise</th>\n",
       "      <th>task_description</th>\n",
       "      <th>input</th>\n",
       "    </tr>\n",
       "  </thead>\n",
       "  <tbody>\n",
       "    <tr>\n",
       "      <th>0</th>\n",
       "      <td>53e99e0bb7602d97026cd68c</td>\n",
       "      <td>[53f42ed2dabfaedd74d496dc, 53f42fa1dabfaee4dc7...</td>\n",
       "      <td>[Machine Learning, Artificial Intelligence, Pa...</td>\n",
       "      <td>The paper shows how a text classifier's need f...</td>\n",
       "      <td>Queries: Machine Learning, Artificial Intellig...</td>\n",
       "    </tr>\n",
       "    <tr>\n",
       "      <th>1</th>\n",
       "      <td>53e9a46bb7602d9702d8bf24</td>\n",
       "      <td>[53f4593ddabfaec09f210d4d, 53f6616fdabfae8dcd3...</td>\n",
       "      <td>[Mathematics, Data Science, Machine Learning, ...</td>\n",
       "      <td>A topological approach to stratification learn...</td>\n",
       "      <td>Queries: Mathematics, Data Science, Machine Le...</td>\n",
       "    </tr>\n",
       "    <tr>\n",
       "      <th>2</th>\n",
       "      <td>53e9aa95b7602d970340d56c</td>\n",
       "      <td>[53f55899dabfae387ff8045b, 53f46832dabfaedce55...</td>\n",
       "      <td>[Computer Science, Database Systems, Transacti...</td>\n",
       "      <td>In recent years, databases have started to be...</td>\n",
       "      <td>Queries: Computer Science, Database Systems, T...</td>\n",
       "    </tr>\n",
       "    <tr>\n",
       "      <th>3</th>\n",
       "      <td>53e9abfeb7602d97035bf400</td>\n",
       "      <td>[53f39f3adabfae4b34aaed9f, 53f43104dabfaee1c0a...</td>\n",
       "      <td>[Computer Science, Database Management, Data W...</td>\n",
       "      <td>Data warehouses are used to collect and analy...</td>\n",
       "      <td>Queries: Computer Science, Database Management...</td>\n",
       "    </tr>\n",
       "    <tr>\n",
       "      <th>4</th>\n",
       "      <td>53e9ac05b7602d97035c29f5</td>\n",
       "      <td>[560923b145cedb3396e2f7fb, 53f64fd4dabfae6a71b...</td>\n",
       "      <td>[Computer Science, Discrete Mathematics, Graph...</td>\n",
       "      <td>We are given a transition system implicitly th...</td>\n",
       "      <td>Queries: Computer Science, Discrete Mathematic...</td>\n",
       "    </tr>\n",
       "  </tbody>\n",
       "</table>\n",
       "</div>"
      ],
      "text/plain": [
       "                         id  \\\n",
       "0  53e99e0bb7602d97026cd68c   \n",
       "1  53e9a46bb7602d9702d8bf24   \n",
       "2  53e9aa95b7602d970340d56c   \n",
       "3  53e9abfeb7602d97035bf400   \n",
       "4  53e9ac05b7602d97035c29f5   \n",
       "\n",
       "                                                team  \\\n",
       "0  [53f42ed2dabfaedd74d496dc, 53f42fa1dabfaee4dc7...   \n",
       "1  [53f4593ddabfaec09f210d4d, 53f6616fdabfae8dcd3...   \n",
       "2  [53f55899dabfae387ff8045b, 53f46832dabfaedce55...   \n",
       "3  [53f39f3adabfae4b34aaed9f, 53f43104dabfaee1c0a...   \n",
       "4  [560923b145cedb3396e2f7fb, 53f64fd4dabfae6a71b...   \n",
       "\n",
       "                                           expertise  \\\n",
       "0  [Machine Learning, Artificial Intelligence, Pa...   \n",
       "1  [Mathematics, Data Science, Machine Learning, ...   \n",
       "2  [Computer Science, Database Systems, Transacti...   \n",
       "3  [Computer Science, Database Management, Data W...   \n",
       "4  [Computer Science, Discrete Mathematics, Graph...   \n",
       "\n",
       "                                    task_description  \\\n",
       "0  The paper shows how a text classifier's need f...   \n",
       "1  A topological approach to stratification learn...   \n",
       "2   In recent years, databases have started to be...   \n",
       "3   Data warehouses are used to collect and analy...   \n",
       "4  We are given a transition system implicitly th...   \n",
       "\n",
       "                                               input  \n",
       "0  Queries: Machine Learning, Artificial Intellig...  \n",
       "1  Queries: Mathematics, Data Science, Machine Le...  \n",
       "2  Queries: Computer Science, Database Systems, T...  \n",
       "3  Queries: Computer Science, Database Management...  \n",
       "4  Queries: Computer Science, Discrete Mathematic...  "
      ]
     },
     "execution_count": 83,
     "metadata": {},
     "output_type": "execute_result"
    }
   ],
   "source": [
    "df.head()"
   ]
  },
  {
   "cell_type": "code",
   "execution_count": 84,
   "metadata": {},
   "outputs": [
    {
     "name": "stdout",
     "output_type": "stream",
     "text": [
      "Queries: Machine Learning, Artificial Intelligence, Pattern Recognition, Text Classification, Active Learning, Unsupervised Learning, Expectation-Maximization Algorithm, Query-by-Committee Method, Data Labeling Techniques, Experimental Design in Machine Learning.\n",
      "Context: The paper shows how a text classifier's need for labeled\n",
      "                   training documents can be reduced by taking advantage of a\n",
      "                   large pool of unlabeled documents. We modify the\n",
      "                   Query-by-Committee (QBC) method of active learning to use\n",
      "                   the unlabeled pool for explicitly estimating document\n",
      "                   density when selecting examples for labeling. Then active\n",
      "                   learning is combined with Expectation-Maximization in\n",
      "                   order to ``fill in'' the class labels of those documents\n",
      "                   that remain unlabeled. Experimental results show that the\n",
      "                   improvements to active learning require less than\n",
      "                   two-thirds as many labeled training examples as previous\n",
      "                   QBC approaches, and that the combination of EM and active\n",
      "                   learning requires only slightly more than half as many\n",
      "                   labeled training examples to achieve the same accuracy as\n",
      "                   either the improved active learning or EM alone.\n"
     ]
    }
   ],
   "source": [
    "print(df[\"input\"].iloc[0])"
   ]
  },
  {
   "cell_type": "code",
   "execution_count": 85,
   "metadata": {},
   "outputs": [
    {
     "name": "stdout",
     "output_type": "stream",
     "text": [
      "Queries: Computer Science, Database Systems, Transaction Management, Parallel Computing, Concurrency Control, Distributed Systems, Theoretical Computer Science, Composite Systems, Correctness in Computing, Nearest Neighbor Search.\n",
      "Context:  In recent years, databases have started to be used as intelligentrepositories for a variety of semantically-richer systems.A consequence of such architectures is that transactionscheduling takes place throughout composite systemsconsisting of layered subsystems. Such transaction architectureshave been studied extensively. Existing theory, however,limits the degree of parallelism, and makes a number ofsimplifying assumptions which cannot be taken for grantedin practice.This paper... \n"
     ]
    }
   ],
   "source": [
    "print(df[\"input\"].iloc[2])"
   ]
  },
  {
   "cell_type": "code",
   "execution_count": 86,
   "metadata": {},
   "outputs": [
    {
     "name": "stdout",
     "output_type": "stream",
     "text": [
      "Queries: Computer Science, Database Systems, Query Optimization, Data Mining, Statistical Analysis, Wavelet Theory, Histogram Techniques, Multiresolution Analysis, OLAP (Online Analytical Processing), Algorithm Design.\n",
      "Context: Query optimization is an integral part of relational database management systems. One important task in query optimization is selectivity estimation, that is, given a query P, we need to estimate the fraction of records in the database that satisfy P. Many commercial database systems maintain histograms to approximate the frequency distribution of values in the attributes of relations.In this paper, we present a technique based upon a multiresolution wavelet decomposition for building histograms on the underlying data distributions, with applications to databases, statistics, and simulation. Histograms built on the cumulative data distributions give very good approximations with limited space usage. We give fast algorithms for constructing histograms and using them in an on-line fashion for selectivity estimation. Our histograms also provide quick approximate answers to OLAP queries when the exact answers are not required. Our method captures the joint distribution of multiple attributes effectively, even when the attributes are correlated. Experiments confirm that our histograms offer substantial improvements in accuracy over random sampling and other previous approaches.\n"
     ]
    }
   ],
   "source": [
    "print(df[\"input\"].iloc[90])"
   ]
  },
  {
   "cell_type": "code",
   "execution_count": 87,
   "metadata": {},
   "outputs": [],
   "source": [
    "df.to_csv(\"./output/cs_paper_with_author_published_2plus.csv\", index = False)"
   ]
  },
  {
   "cell_type": "markdown",
   "metadata": {},
   "source": [
    "# Train Test Split"
   ]
  },
  {
   "cell_type": "code",
   "execution_count": 5,
   "metadata": {},
   "outputs": [
    {
     "name": "stdout",
     "output_type": "stream",
     "text": [
      "(26051, 5)\n"
     ]
    },
    {
     "data": {
      "text/html": [
       "<div>\n",
       "<style scoped>\n",
       "    .dataframe tbody tr th:only-of-type {\n",
       "        vertical-align: middle;\n",
       "    }\n",
       "\n",
       "    .dataframe tbody tr th {\n",
       "        vertical-align: top;\n",
       "    }\n",
       "\n",
       "    .dataframe thead th {\n",
       "        text-align: right;\n",
       "    }\n",
       "</style>\n",
       "<table border=\"1\" class=\"dataframe\">\n",
       "  <thead>\n",
       "    <tr style=\"text-align: right;\">\n",
       "      <th></th>\n",
       "      <th>id</th>\n",
       "      <th>team</th>\n",
       "      <th>expertise</th>\n",
       "      <th>task_description</th>\n",
       "      <th>input</th>\n",
       "    </tr>\n",
       "  </thead>\n",
       "  <tbody>\n",
       "    <tr>\n",
       "      <th>0</th>\n",
       "      <td>53e99e0bb7602d97026cd68c</td>\n",
       "      <td>['53f42ed2dabfaedd74d496dc', '53f42fa1dabfaee4...</td>\n",
       "      <td>['Machine Learning', 'Artificial Intelligence'...</td>\n",
       "      <td>The paper shows how a text classifier's need f...</td>\n",
       "      <td>Queries: Machine Learning, Artificial Intellig...</td>\n",
       "    </tr>\n",
       "    <tr>\n",
       "      <th>1</th>\n",
       "      <td>53e9a46bb7602d9702d8bf24</td>\n",
       "      <td>['53f4593ddabfaec09f210d4d', '53f6616fdabfae8d...</td>\n",
       "      <td>['Mathematics', 'Data Science', 'Machine Learn...</td>\n",
       "      <td>A topological approach to stratification learn...</td>\n",
       "      <td>Queries: Mathematics, Data Science, Machine Le...</td>\n",
       "    </tr>\n",
       "    <tr>\n",
       "      <th>2</th>\n",
       "      <td>53e9aa95b7602d970340d56c</td>\n",
       "      <td>['53f55899dabfae387ff8045b', '53f46832dabfaedc...</td>\n",
       "      <td>['Computer Science', 'Database Systems', 'Tran...</td>\n",
       "      <td>In recent years, databases have started to be...</td>\n",
       "      <td>Queries: Computer Science, Database Systems, T...</td>\n",
       "    </tr>\n",
       "    <tr>\n",
       "      <th>3</th>\n",
       "      <td>53e9abfeb7602d97035bf400</td>\n",
       "      <td>['53f39f3adabfae4b34aaed9f', '53f43104dabfaee1...</td>\n",
       "      <td>['Computer Science', 'Database Management', 'D...</td>\n",
       "      <td>Data warehouses are used to collect and analy...</td>\n",
       "      <td>Queries: Computer Science, Database Management...</td>\n",
       "    </tr>\n",
       "    <tr>\n",
       "      <th>4</th>\n",
       "      <td>53e9ac05b7602d97035c29f5</td>\n",
       "      <td>['560923b145cedb3396e2f7fb', '53f64fd4dabfae6a...</td>\n",
       "      <td>['Computer Science', 'Discrete Mathematics', '...</td>\n",
       "      <td>We are given a transition system implicitly th...</td>\n",
       "      <td>Queries: Computer Science, Discrete Mathematic...</td>\n",
       "    </tr>\n",
       "  </tbody>\n",
       "</table>\n",
       "</div>"
      ],
      "text/plain": [
       "                         id  \\\n",
       "0  53e99e0bb7602d97026cd68c   \n",
       "1  53e9a46bb7602d9702d8bf24   \n",
       "2  53e9aa95b7602d970340d56c   \n",
       "3  53e9abfeb7602d97035bf400   \n",
       "4  53e9ac05b7602d97035c29f5   \n",
       "\n",
       "                                                team  \\\n",
       "0  ['53f42ed2dabfaedd74d496dc', '53f42fa1dabfaee4...   \n",
       "1  ['53f4593ddabfaec09f210d4d', '53f6616fdabfae8d...   \n",
       "2  ['53f55899dabfae387ff8045b', '53f46832dabfaedc...   \n",
       "3  ['53f39f3adabfae4b34aaed9f', '53f43104dabfaee1...   \n",
       "4  ['560923b145cedb3396e2f7fb', '53f64fd4dabfae6a...   \n",
       "\n",
       "                                           expertise  \\\n",
       "0  ['Machine Learning', 'Artificial Intelligence'...   \n",
       "1  ['Mathematics', 'Data Science', 'Machine Learn...   \n",
       "2  ['Computer Science', 'Database Systems', 'Tran...   \n",
       "3  ['Computer Science', 'Database Management', 'D...   \n",
       "4  ['Computer Science', 'Discrete Mathematics', '...   \n",
       "\n",
       "                                    task_description  \\\n",
       "0  The paper shows how a text classifier's need f...   \n",
       "1  A topological approach to stratification learn...   \n",
       "2   In recent years, databases have started to be...   \n",
       "3   Data warehouses are used to collect and analy...   \n",
       "4  We are given a transition system implicitly th...   \n",
       "\n",
       "                                               input  \n",
       "0  Queries: Machine Learning, Artificial Intellig...  \n",
       "1  Queries: Mathematics, Data Science, Machine Le...  \n",
       "2  Queries: Computer Science, Database Systems, T...  \n",
       "3  Queries: Computer Science, Database Management...  \n",
       "4  Queries: Computer Science, Discrete Mathematic...  "
      ]
     },
     "metadata": {},
     "output_type": "display_data"
    }
   ],
   "source": [
    "df = pd.read_csv(\"./output/cs_paper_with_author_published_2plus.csv\")\n",
    "print(df.shape)\n",
    "display(df.head())"
   ]
  },
  {
   "cell_type": "code",
   "execution_count": 6,
   "metadata": {},
   "outputs": [
    {
     "name": "stdout",
     "output_type": "stream",
     "text": [
      "(26051, 3)\n"
     ]
    },
    {
     "data": {
      "text/html": [
       "<div>\n",
       "<style scoped>\n",
       "    .dataframe tbody tr th:only-of-type {\n",
       "        vertical-align: middle;\n",
       "    }\n",
       "\n",
       "    .dataframe tbody tr th {\n",
       "        vertical-align: top;\n",
       "    }\n",
       "\n",
       "    .dataframe thead th {\n",
       "        text-align: right;\n",
       "    }\n",
       "</style>\n",
       "<table border=\"1\" class=\"dataframe\">\n",
       "  <thead>\n",
       "    <tr style=\"text-align: right;\">\n",
       "      <th></th>\n",
       "      <th>id</th>\n",
       "      <th>input</th>\n",
       "      <th>team</th>\n",
       "    </tr>\n",
       "  </thead>\n",
       "  <tbody>\n",
       "    <tr>\n",
       "      <th>0</th>\n",
       "      <td>53e99e0bb7602d97026cd68c</td>\n",
       "      <td>Queries: Machine Learning, Artificial Intellig...</td>\n",
       "      <td>['53f42ed2dabfaedd74d496dc', '53f42fa1dabfaee4...</td>\n",
       "    </tr>\n",
       "    <tr>\n",
       "      <th>1</th>\n",
       "      <td>53e9a46bb7602d9702d8bf24</td>\n",
       "      <td>Queries: Mathematics, Data Science, Machine Le...</td>\n",
       "      <td>['53f4593ddabfaec09f210d4d', '53f6616fdabfae8d...</td>\n",
       "    </tr>\n",
       "    <tr>\n",
       "      <th>2</th>\n",
       "      <td>53e9aa95b7602d970340d56c</td>\n",
       "      <td>Queries: Computer Science, Database Systems, T...</td>\n",
       "      <td>['53f55899dabfae387ff8045b', '53f46832dabfaedc...</td>\n",
       "    </tr>\n",
       "    <tr>\n",
       "      <th>3</th>\n",
       "      <td>53e9abfeb7602d97035bf400</td>\n",
       "      <td>Queries: Computer Science, Database Management...</td>\n",
       "      <td>['53f39f3adabfae4b34aaed9f', '53f43104dabfaee1...</td>\n",
       "    </tr>\n",
       "    <tr>\n",
       "      <th>4</th>\n",
       "      <td>53e9ac05b7602d97035c29f5</td>\n",
       "      <td>Queries: Computer Science, Discrete Mathematic...</td>\n",
       "      <td>['560923b145cedb3396e2f7fb', '53f64fd4dabfae6a...</td>\n",
       "    </tr>\n",
       "  </tbody>\n",
       "</table>\n",
       "</div>"
      ],
      "text/plain": [
       "                         id  \\\n",
       "0  53e99e0bb7602d97026cd68c   \n",
       "1  53e9a46bb7602d9702d8bf24   \n",
       "2  53e9aa95b7602d970340d56c   \n",
       "3  53e9abfeb7602d97035bf400   \n",
       "4  53e9ac05b7602d97035c29f5   \n",
       "\n",
       "                                               input  \\\n",
       "0  Queries: Machine Learning, Artificial Intellig...   \n",
       "1  Queries: Mathematics, Data Science, Machine Le...   \n",
       "2  Queries: Computer Science, Database Systems, T...   \n",
       "3  Queries: Computer Science, Database Management...   \n",
       "4  Queries: Computer Science, Discrete Mathematic...   \n",
       "\n",
       "                                                team  \n",
       "0  ['53f42ed2dabfaedd74d496dc', '53f42fa1dabfaee4...  \n",
       "1  ['53f4593ddabfaec09f210d4d', '53f6616fdabfae8d...  \n",
       "2  ['53f55899dabfae387ff8045b', '53f46832dabfaedc...  \n",
       "3  ['53f39f3adabfae4b34aaed9f', '53f43104dabfaee1...  \n",
       "4  ['560923b145cedb3396e2f7fb', '53f64fd4dabfae6a...  "
      ]
     },
     "execution_count": 6,
     "metadata": {},
     "output_type": "execute_result"
    }
   ],
   "source": [
    "# Create a new DataFrame excluding redundant clumns\n",
    "df_to_convert = df[[\"id\", 'input', 'team']]\n",
    "print(df_to_convert.shape)\n",
    "df_to_convert.head()"
   ]
  },
  {
   "cell_type": "code",
   "execution_count": 7,
   "metadata": {},
   "outputs": [
    {
     "name": "stdout",
     "output_type": "stream",
     "text": [
      "(18235, 3)\n",
      "(7816, 3)\n"
     ]
    }
   ],
   "source": [
    "list_paper_id = df[\"id\"].unique()\n",
    "\n",
    "# Step 2: Split 'id' into train and test while ensuring all test 'id' are in train set\n",
    "train_set, test_set = train_test_split(df_to_convert, test_size=0.3, random_state= 617)\n",
    "print(train_set.shape)\n",
    "print(test_set.shape)"
   ]
  },
  {
   "cell_type": "code",
   "execution_count": 8,
   "metadata": {},
   "outputs": [
    {
     "name": "stdout",
     "output_type": "stream",
     "text": [
      "(18235, 2)\n"
     ]
    },
    {
     "data": {
      "text/html": [
       "<div>\n",
       "<style scoped>\n",
       "    .dataframe tbody tr th:only-of-type {\n",
       "        vertical-align: middle;\n",
       "    }\n",
       "\n",
       "    .dataframe tbody tr th {\n",
       "        vertical-align: top;\n",
       "    }\n",
       "\n",
       "    .dataframe thead th {\n",
       "        text-align: right;\n",
       "    }\n",
       "</style>\n",
       "<table border=\"1\" class=\"dataframe\">\n",
       "  <thead>\n",
       "    <tr style=\"text-align: right;\">\n",
       "      <th></th>\n",
       "      <th>id</th>\n",
       "      <th>team</th>\n",
       "    </tr>\n",
       "  </thead>\n",
       "  <tbody>\n",
       "    <tr>\n",
       "      <th>1735</th>\n",
       "      <td>53e99afdb7602d970238b1fa</td>\n",
       "      <td>['53f4b25bdabfaee4dc8b4e8d', '53f590a2dabfaedd...</td>\n",
       "    </tr>\n",
       "    <tr>\n",
       "      <th>10729</th>\n",
       "      <td>53e9af8db7602d97039d6262</td>\n",
       "      <td>['53f451acdabfaec09f1f4b75', '53f431c3dabfaedc...</td>\n",
       "    </tr>\n",
       "    <tr>\n",
       "      <th>17752</th>\n",
       "      <td>5550489045ce0a409eb6f79b</td>\n",
       "      <td>['542aa53edabfae61d4999e7d', '542ce9bddabfae21...</td>\n",
       "    </tr>\n",
       "    <tr>\n",
       "      <th>10799</th>\n",
       "      <td>53e9afb3b7602d97039ff004</td>\n",
       "      <td>['53f44f3cdabfaedd74e11a95', '53f4a909dabfaeb2...</td>\n",
       "    </tr>\n",
       "    <tr>\n",
       "      <th>11072</th>\n",
       "      <td>53e9b049b7602d9703aad045</td>\n",
       "      <td>['54860978dabfae9b40133b60', '53f4333edabfaeec...</td>\n",
       "    </tr>\n",
       "  </tbody>\n",
       "</table>\n",
       "</div>"
      ],
      "text/plain": [
       "                             id  \\\n",
       "1735   53e99afdb7602d970238b1fa   \n",
       "10729  53e9af8db7602d97039d6262   \n",
       "17752  5550489045ce0a409eb6f79b   \n",
       "10799  53e9afb3b7602d97039ff004   \n",
       "11072  53e9b049b7602d9703aad045   \n",
       "\n",
       "                                                    team  \n",
       "1735   ['53f4b25bdabfaee4dc8b4e8d', '53f590a2dabfaedd...  \n",
       "10729  ['53f451acdabfaec09f1f4b75', '53f431c3dabfaedc...  \n",
       "17752  ['542aa53edabfae61d4999e7d', '542ce9bddabfae21...  \n",
       "10799  ['53f44f3cdabfaedd74e11a95', '53f4a909dabfaeb2...  \n",
       "11072  ['54860978dabfae9b40133b60', '53f4333edabfaeec...  "
      ]
     },
     "metadata": {},
     "output_type": "display_data"
    },
    {
     "name": "stdout",
     "output_type": "stream",
     "text": [
      "(56672, 2)\n"
     ]
    },
    {
     "name": "stderr",
     "output_type": "stream",
     "text": [
      "/tmp/ipykernel_2129336/1416945734.py:8: SettingWithCopyWarning: \n",
      "A value is trying to be set on a copy of a slice from a DataFrame.\n",
      "Try using .loc[row_indexer,col_indexer] = value instead\n",
      "\n",
      "See the caveats in the documentation: https://pandas.pydata.org/pandas-docs/stable/user_guide/indexing.html#returning-a-view-versus-a-copy\n",
      "  train_set_[\"team\"] = train_set_[\"team\"].apply(string_to_python)\n"
     ]
    },
    {
     "data": {
      "text/html": [
       "<div>\n",
       "<style scoped>\n",
       "    .dataframe tbody tr th:only-of-type {\n",
       "        vertical-align: middle;\n",
       "    }\n",
       "\n",
       "    .dataframe tbody tr th {\n",
       "        vertical-align: top;\n",
       "    }\n",
       "\n",
       "    .dataframe thead th {\n",
       "        text-align: right;\n",
       "    }\n",
       "</style>\n",
       "<table border=\"1\" class=\"dataframe\">\n",
       "  <thead>\n",
       "    <tr style=\"text-align: right;\">\n",
       "      <th></th>\n",
       "      <th>id</th>\n",
       "      <th>team</th>\n",
       "    </tr>\n",
       "  </thead>\n",
       "  <tbody>\n",
       "    <tr>\n",
       "      <th>0</th>\n",
       "      <td>53e99afdb7602d970238b1fa</td>\n",
       "      <td>53f4b25bdabfaee4dc8b4e8d</td>\n",
       "    </tr>\n",
       "    <tr>\n",
       "      <th>1</th>\n",
       "      <td>53e99afdb7602d970238b1fa</td>\n",
       "      <td>53f590a2dabfaedd59f8045b</td>\n",
       "    </tr>\n",
       "    <tr>\n",
       "      <th>2</th>\n",
       "      <td>53e99afdb7602d970238b1fa</td>\n",
       "      <td>53f79af8dabfae90ec10b2ab</td>\n",
       "    </tr>\n",
       "    <tr>\n",
       "      <th>3</th>\n",
       "      <td>53e9af8db7602d97039d6262</td>\n",
       "      <td>53f451acdabfaec09f1f4b75</td>\n",
       "    </tr>\n",
       "    <tr>\n",
       "      <th>4</th>\n",
       "      <td>53e9af8db7602d97039d6262</td>\n",
       "      <td>53f431c3dabfaedce54fd486</td>\n",
       "    </tr>\n",
       "  </tbody>\n",
       "</table>\n",
       "</div>"
      ],
      "text/plain": [
       "                         id                      team\n",
       "0  53e99afdb7602d970238b1fa  53f4b25bdabfaee4dc8b4e8d\n",
       "1  53e99afdb7602d970238b1fa  53f590a2dabfaedd59f8045b\n",
       "2  53e99afdb7602d970238b1fa  53f79af8dabfae90ec10b2ab\n",
       "3  53e9af8db7602d97039d6262  53f451acdabfaec09f1f4b75\n",
       "4  53e9af8db7602d97039d6262  53f431c3dabfaedce54fd486"
      ]
     },
     "metadata": {},
     "output_type": "display_data"
    },
    {
     "name": "stdout",
     "output_type": "stream",
     "text": [
      "18941\n"
     ]
    }
   ],
   "source": [
    "# get a list of unique author id in Train set\n",
    "\n",
    "train_set_ = train_set[[\"id\", \"team\"]]\n",
    "print(train_set_.shape)\n",
    "display(train_set_.head())\n",
    "\n",
    "# Step 1: Flatten the lists in the 'author_id' column\n",
    "train_set_[\"team\"] = train_set_[\"team\"].apply(string_to_python)\n",
    "train_set_explode = train_set_.explode(\"team\", ignore_index = True)\n",
    "print(train_set_explode.shape)\n",
    "display(train_set_explode.head())\n",
    "# Step 2: Get the unique author_ids\n",
    "list_train_author_id = train_set_explode[\"team\"].unique()\n",
    "print(len(list_train_author_id))\n"
   ]
  },
  {
   "cell_type": "code",
   "execution_count": 10,
   "metadata": {},
   "outputs": [
    {
     "name": "stdout",
     "output_type": "stream",
     "text": [
      "(7816, 2)\n"
     ]
    },
    {
     "data": {
      "text/html": [
       "<div>\n",
       "<style scoped>\n",
       "    .dataframe tbody tr th:only-of-type {\n",
       "        vertical-align: middle;\n",
       "    }\n",
       "\n",
       "    .dataframe tbody tr th {\n",
       "        vertical-align: top;\n",
       "    }\n",
       "\n",
       "    .dataframe thead th {\n",
       "        text-align: right;\n",
       "    }\n",
       "</style>\n",
       "<table border=\"1\" class=\"dataframe\">\n",
       "  <thead>\n",
       "    <tr style=\"text-align: right;\">\n",
       "      <th></th>\n",
       "      <th>id</th>\n",
       "      <th>team</th>\n",
       "    </tr>\n",
       "  </thead>\n",
       "  <tbody>\n",
       "    <tr>\n",
       "      <th>3137</th>\n",
       "      <td>53e99e38b7602d97026fd87e</td>\n",
       "      <td>['53f43762dabfaee4dc78b72d', '540ff90edabfae45...</td>\n",
       "    </tr>\n",
       "    <tr>\n",
       "      <th>24995</th>\n",
       "      <td>5f8d6be69fced0a24bbaaf49</td>\n",
       "      <td>['542b5c16dabfae20065fbfa8', '54059314dabfae8f...</td>\n",
       "    </tr>\n",
       "    <tr>\n",
       "      <th>25786</th>\n",
       "      <td>6215a4242c356815940384bd</td>\n",
       "      <td>['54055925dabfae44f0804adf', '561557eb45ce1e59...</td>\n",
       "    </tr>\n",
       "    <tr>\n",
       "      <th>5554</th>\n",
       "      <td>53e9a3e1b7602d9702cf7a50</td>\n",
       "      <td>['53f43674dabfaee1c0a9df6e', '54401f44dabfae80...</td>\n",
       "    </tr>\n",
       "    <tr>\n",
       "      <th>21149</th>\n",
       "      <td>599c7b59601a182cd272c177</td>\n",
       "      <td>['562cd33245cedb3398cd64ca', '53f42d96dabfaee0...</td>\n",
       "    </tr>\n",
       "  </tbody>\n",
       "</table>\n",
       "</div>"
      ],
      "text/plain": [
       "                             id  \\\n",
       "3137   53e99e38b7602d97026fd87e   \n",
       "24995  5f8d6be69fced0a24bbaaf49   \n",
       "25786  6215a4242c356815940384bd   \n",
       "5554   53e9a3e1b7602d9702cf7a50   \n",
       "21149  599c7b59601a182cd272c177   \n",
       "\n",
       "                                                    team  \n",
       "3137   ['53f43762dabfaee4dc78b72d', '540ff90edabfae45...  \n",
       "24995  ['542b5c16dabfae20065fbfa8', '54059314dabfae8f...  \n",
       "25786  ['54055925dabfae44f0804adf', '561557eb45ce1e59...  \n",
       "5554   ['53f43674dabfaee1c0a9df6e', '54401f44dabfae80...  \n",
       "21149  ['562cd33245cedb3398cd64ca', '53f42d96dabfaee0...  "
      ]
     },
     "metadata": {},
     "output_type": "display_data"
    },
    {
     "name": "stdout",
     "output_type": "stream",
     "text": [
      "(24141, 2)\n"
     ]
    },
    {
     "name": "stderr",
     "output_type": "stream",
     "text": [
      "/tmp/ipykernel_2129336/3920315506.py:8: SettingWithCopyWarning: \n",
      "A value is trying to be set on a copy of a slice from a DataFrame.\n",
      "Try using .loc[row_indexer,col_indexer] = value instead\n",
      "\n",
      "See the caveats in the documentation: https://pandas.pydata.org/pandas-docs/stable/user_guide/indexing.html#returning-a-view-versus-a-copy\n",
      "  test_set_[\"team\"] = test_set_[\"team\"].apply(string_to_python)\n"
     ]
    },
    {
     "data": {
      "text/html": [
       "<div>\n",
       "<style scoped>\n",
       "    .dataframe tbody tr th:only-of-type {\n",
       "        vertical-align: middle;\n",
       "    }\n",
       "\n",
       "    .dataframe tbody tr th {\n",
       "        vertical-align: top;\n",
       "    }\n",
       "\n",
       "    .dataframe thead th {\n",
       "        text-align: right;\n",
       "    }\n",
       "</style>\n",
       "<table border=\"1\" class=\"dataframe\">\n",
       "  <thead>\n",
       "    <tr style=\"text-align: right;\">\n",
       "      <th></th>\n",
       "      <th>id</th>\n",
       "      <th>team</th>\n",
       "    </tr>\n",
       "  </thead>\n",
       "  <tbody>\n",
       "    <tr>\n",
       "      <th>0</th>\n",
       "      <td>53e99e38b7602d97026fd87e</td>\n",
       "      <td>53f43762dabfaee4dc78b72d</td>\n",
       "    </tr>\n",
       "    <tr>\n",
       "      <th>1</th>\n",
       "      <td>53e99e38b7602d97026fd87e</td>\n",
       "      <td>540ff90edabfae450f4bd6e6</td>\n",
       "    </tr>\n",
       "    <tr>\n",
       "      <th>2</th>\n",
       "      <td>53e99e38b7602d97026fd87e</td>\n",
       "      <td>53f480a2dabfae963d25b1b5</td>\n",
       "    </tr>\n",
       "    <tr>\n",
       "      <th>3</th>\n",
       "      <td>53e99e38b7602d97026fd87e</td>\n",
       "      <td>53f4804ddabfae963d259647</td>\n",
       "    </tr>\n",
       "    <tr>\n",
       "      <th>4</th>\n",
       "      <td>5f8d6be69fced0a24bbaaf49</td>\n",
       "      <td>542b5c16dabfae20065fbfa8</td>\n",
       "    </tr>\n",
       "  </tbody>\n",
       "</table>\n",
       "</div>"
      ],
      "text/plain": [
       "                         id                      team\n",
       "0  53e99e38b7602d97026fd87e  53f43762dabfaee4dc78b72d\n",
       "1  53e99e38b7602d97026fd87e  540ff90edabfae450f4bd6e6\n",
       "2  53e99e38b7602d97026fd87e  53f480a2dabfae963d25b1b5\n",
       "3  53e99e38b7602d97026fd87e  53f4804ddabfae963d259647\n",
       "4  5f8d6be69fced0a24bbaaf49  542b5c16dabfae20065fbfa8"
      ]
     },
     "metadata": {},
     "output_type": "display_data"
    },
    {
     "name": "stdout",
     "output_type": "stream",
     "text": [
      "11944\n"
     ]
    }
   ],
   "source": [
    "# get a list of unique author id in Test set\n",
    "\n",
    "test_set_ = test_set[[\"id\", \"team\"]]\n",
    "print(test_set_.shape)\n",
    "display(test_set_.head())\n",
    "\n",
    "# Step 1: Flatten the lists in the 'author_id' column\n",
    "test_set_[\"team\"] = test_set_[\"team\"].apply(string_to_python)\n",
    "test_set_explode = test_set_[[\"id\", \"team\"]].explode(\"team\", ignore_index = True)\n",
    "print(test_set_explode.shape)\n",
    "display(test_set_explode.head())\n",
    "\n",
    "# Step 2: Get the unique author_ids\n",
    "list_test_author_id = test_set_explode[\"team\"].unique()\n",
    "print(len(list_test_author_id))\n"
   ]
  },
  {
   "cell_type": "code",
   "execution_count": 11,
   "metadata": {},
   "outputs": [
    {
     "name": "stdout",
     "output_type": "stream",
     "text": [
      "2970\n"
     ]
    }
   ],
   "source": [
    "list_authorid_should_not_be_in_test = []\n",
    "for authorid in list_test_author_id:\n",
    "    if authorid not in list_train_author_id:\n",
    "        list_authorid_should_not_be_in_test.append(authorid)\n",
    "print(len(list_authorid_should_not_be_in_test))\n"
   ]
  },
  {
   "cell_type": "code",
   "execution_count": 12,
   "metadata": {},
   "outputs": [],
   "source": [
    "test_set_explode_keep = test_set_explode[~test_set_explode[\"team\"].isin(list_authorid_should_not_be_in_test)]\n"
   ]
  },
  {
   "cell_type": "code",
   "execution_count": 13,
   "metadata": {},
   "outputs": [],
   "source": [
    "test_set_explode_move = test_set_explode[test_set_explode[\"team\"].isin(list_authorid_should_not_be_in_test)]"
   ]
  },
  {
   "cell_type": "code",
   "execution_count": 14,
   "metadata": {},
   "outputs": [
    {
     "name": "stdout",
     "output_type": "stream",
     "text": [
      "(20418, 2)\n",
      "(3723, 2)\n"
     ]
    }
   ],
   "source": [
    "print(test_set_explode_keep.shape)\n",
    "print(test_set_explode_move.shape)"
   ]
  },
  {
   "cell_type": "code",
   "execution_count": 15,
   "metadata": {},
   "outputs": [
    {
     "name": "stdout",
     "output_type": "stream",
     "text": [
      "7495\n",
      "0.2877048865686538\n"
     ]
    }
   ],
   "source": [
    "list_paperid_to_keep_in_testset = test_set_explode_keep[\"id\"].unique()\n",
    "print(len(list_paperid_to_keep_in_testset))\n",
    "print(len(list_paperid_to_keep_in_testset) / df.shape[0])"
   ]
  },
  {
   "cell_type": "code",
   "execution_count": 23,
   "metadata": {},
   "outputs": [
    {
     "name": "stdout",
     "output_type": "stream",
     "text": [
      "2564\n",
      "0.2016045449310967\n"
     ]
    }
   ],
   "source": [
    "list_paperid_to_move_in_testset = test_set_explode_move[\"id\"].unique()\n",
    "print(len(list_paperid_to_move_in_testset))\n",
    "print((test_set_.shape[0] - len(list_paperid_to_move_in_testset) )/ df.shape[0])"
   ]
  },
  {
   "cell_type": "code",
   "execution_count": 24,
   "metadata": {},
   "outputs": [],
   "source": [
    "appeared_twice = [id for id in list_paperid_to_move_in_testset if id in list_paperid_to_keep_in_testset]"
   ]
  },
  {
   "cell_type": "code",
   "execution_count": 25,
   "metadata": {},
   "outputs": [],
   "source": [
    "appeared_twice2 = [id for id in list_paperid_to_keep_in_testset if id in list_paperid_to_move_in_testset]"
   ]
  },
  {
   "cell_type": "code",
   "execution_count": 26,
   "metadata": {},
   "outputs": [
    {
     "name": "stdout",
     "output_type": "stream",
     "text": [
      "2243\n",
      "2243\n"
     ]
    }
   ],
   "source": [
    "print(len(appeared_twice))\n",
    "print(len(appeared_twice2))"
   ]
  },
  {
   "cell_type": "code",
   "execution_count": 27,
   "metadata": {},
   "outputs": [],
   "source": [
    "assert set(appeared_twice) == set(appeared_twice2)"
   ]
  },
  {
   "cell_type": "code",
   "execution_count": 29,
   "metadata": {},
   "outputs": [
    {
     "name": "stdout",
     "output_type": "stream",
     "text": [
      "(5252, 3)\n"
     ]
    },
    {
     "data": {
      "text/html": [
       "<div>\n",
       "<style scoped>\n",
       "    .dataframe tbody tr th:only-of-type {\n",
       "        vertical-align: middle;\n",
       "    }\n",
       "\n",
       "    .dataframe tbody tr th {\n",
       "        vertical-align: top;\n",
       "    }\n",
       "\n",
       "    .dataframe thead th {\n",
       "        text-align: right;\n",
       "    }\n",
       "</style>\n",
       "<table border=\"1\" class=\"dataframe\">\n",
       "  <thead>\n",
       "    <tr style=\"text-align: right;\">\n",
       "      <th></th>\n",
       "      <th>id</th>\n",
       "      <th>input</th>\n",
       "      <th>team</th>\n",
       "    </tr>\n",
       "  </thead>\n",
       "  <tbody>\n",
       "    <tr>\n",
       "      <th>0</th>\n",
       "      <td>53e9aea4b7602d97038c8784</td>\n",
       "      <td>Queries: Computer Science, Parallel Computing,...</td>\n",
       "      <td>['53f44cfedabfaefedbb2d8fc', '53f48cf4dabfaea7...</td>\n",
       "    </tr>\n",
       "    <tr>\n",
       "      <th>1</th>\n",
       "      <td>53e99a67b7602d97022d3c40</td>\n",
       "      <td>Queries: Computer Science, Database Systems, D...</td>\n",
       "      <td>['53f5588bdabfae3863f8045b', '53f4305edabfaedc...</td>\n",
       "    </tr>\n",
       "    <tr>\n",
       "      <th>2</th>\n",
       "      <td>53e9a415b7602d9702d31bab</td>\n",
       "      <td>Queries: Information Retrieval, Knowledge Mana...</td>\n",
       "      <td>['53f435afdabfaee1c0a97b2a', '53f642a7dabfaed4...</td>\n",
       "    </tr>\n",
       "    <tr>\n",
       "      <th>3</th>\n",
       "      <td>53e9b108b7602d9703b83a16</td>\n",
       "      <td>Queries: Data Mining, Scholarly Data Analysis,...</td>\n",
       "      <td>['53f437e4dabfaee2a1cf43bb', '53f43211dabfaeb2...</td>\n",
       "    </tr>\n",
       "    <tr>\n",
       "      <th>4</th>\n",
       "      <td>53e9b98ab7602d97045793df</td>\n",
       "      <td>Queries: Computer Science, Database Systems, D...</td>\n",
       "      <td>['53f446abdabfaeb22f4c0ae8', '53f4666cdabfaec0...</td>\n",
       "    </tr>\n",
       "  </tbody>\n",
       "</table>\n",
       "</div>"
      ],
      "text/plain": [
       "                         id  \\\n",
       "0  53e9aea4b7602d97038c8784   \n",
       "1  53e99a67b7602d97022d3c40   \n",
       "2  53e9a415b7602d9702d31bab   \n",
       "3  53e9b108b7602d9703b83a16   \n",
       "4  53e9b98ab7602d97045793df   \n",
       "\n",
       "                                               input  \\\n",
       "0  Queries: Computer Science, Parallel Computing,...   \n",
       "1  Queries: Computer Science, Database Systems, D...   \n",
       "2  Queries: Information Retrieval, Knowledge Mana...   \n",
       "3  Queries: Data Mining, Scholarly Data Analysis,...   \n",
       "4  Queries: Computer Science, Database Systems, D...   \n",
       "\n",
       "                                                team  \n",
       "0  ['53f44cfedabfaefedbb2d8fc', '53f48cf4dabfaea7...  \n",
       "1  ['53f5588bdabfae3863f8045b', '53f4305edabfaedc...  \n",
       "2  ['53f435afdabfaee1c0a97b2a', '53f642a7dabfaed4...  \n",
       "3  ['53f437e4dabfaee2a1cf43bb', '53f43211dabfaeb2...  \n",
       "4  ['53f446abdabfaeb22f4c0ae8', '53f4666cdabfaec0...  "
      ]
     },
     "metadata": {},
     "output_type": "display_data"
    }
   ],
   "source": [
    "final_test_set = test_set[~test_set[\"id\"].isin(list_paperid_to_move_in_testset)]\n",
    "# shuffle the rows\n",
    "final_test_set = final_test_set.sample(frac=1, random_state=42).reset_index(drop=True)\n",
    "print(final_test_set.shape)\n",
    "display(final_test_set.head())"
   ]
  },
  {
   "cell_type": "code",
   "execution_count": 30,
   "metadata": {},
   "outputs": [
    {
     "name": "stdout",
     "output_type": "stream",
     "text": [
      "(2564, 3)\n"
     ]
    }
   ],
   "source": [
    "test_set_move = test_set[test_set[\"id\"].isin(list_paperid_to_move_outof_testset)]\n",
    "print(test_set_move.shape)"
   ]
  },
  {
   "cell_type": "code",
   "execution_count": 31,
   "metadata": {},
   "outputs": [
    {
     "name": "stdout",
     "output_type": "stream",
     "text": [
      "(20799, 3)\n",
      "20799\n"
     ]
    },
    {
     "data": {
      "text/html": [
       "<div>\n",
       "<style scoped>\n",
       "    .dataframe tbody tr th:only-of-type {\n",
       "        vertical-align: middle;\n",
       "    }\n",
       "\n",
       "    .dataframe tbody tr th {\n",
       "        vertical-align: top;\n",
       "    }\n",
       "\n",
       "    .dataframe thead th {\n",
       "        text-align: right;\n",
       "    }\n",
       "</style>\n",
       "<table border=\"1\" class=\"dataframe\">\n",
       "  <thead>\n",
       "    <tr style=\"text-align: right;\">\n",
       "      <th></th>\n",
       "      <th>id</th>\n",
       "      <th>input</th>\n",
       "      <th>team</th>\n",
       "    </tr>\n",
       "  </thead>\n",
       "  <tbody>\n",
       "    <tr>\n",
       "      <th>0</th>\n",
       "      <td>53e9af3ab7602d970397a5b5</td>\n",
       "      <td>Queries: Data mining, Information retrieval, C...</td>\n",
       "      <td>['53f42d67dabfaedd74d36ddd', '53f48babdabfaea7...</td>\n",
       "    </tr>\n",
       "    <tr>\n",
       "      <th>1</th>\n",
       "      <td>53e9ae9cb7602d97038bdd01</td>\n",
       "      <td>Queries: Computer Science, Information Retriev...</td>\n",
       "      <td>['53f436efdabfaee2a1ceb382', '53f4ae26dabfaee0...</td>\n",
       "    </tr>\n",
       "    <tr>\n",
       "      <th>2</th>\n",
       "      <td>53e9b62db7602d9704185386</td>\n",
       "      <td>Queries: Computer Science, Database Systems, D...</td>\n",
       "      <td>['53f453b6dabfaee2a1d699bd', '53f55e9fdabfae52...</td>\n",
       "    </tr>\n",
       "    <tr>\n",
       "      <th>3</th>\n",
       "      <td>53e9b22eb7602d9703cc8707</td>\n",
       "      <td>Queries: Information Science, Web Technologies...</td>\n",
       "      <td>['53f43283dabfaee4dc75af98', '53f325efdabfae9a...</td>\n",
       "    </tr>\n",
       "    <tr>\n",
       "      <th>4</th>\n",
       "      <td>555048d545ce0a409eb71cdd</td>\n",
       "      <td>Queries: Computer Science, Data Science, Machi...</td>\n",
       "      <td>['53f42d86dabfaee43ebc6a6a', '542a3df7dabfae64...</td>\n",
       "    </tr>\n",
       "  </tbody>\n",
       "</table>\n",
       "</div>"
      ],
      "text/plain": [
       "                         id  \\\n",
       "0  53e9af3ab7602d970397a5b5   \n",
       "1  53e9ae9cb7602d97038bdd01   \n",
       "2  53e9b62db7602d9704185386   \n",
       "3  53e9b22eb7602d9703cc8707   \n",
       "4  555048d545ce0a409eb71cdd   \n",
       "\n",
       "                                               input  \\\n",
       "0  Queries: Data mining, Information retrieval, C...   \n",
       "1  Queries: Computer Science, Information Retriev...   \n",
       "2  Queries: Computer Science, Database Systems, D...   \n",
       "3  Queries: Information Science, Web Technologies...   \n",
       "4  Queries: Computer Science, Data Science, Machi...   \n",
       "\n",
       "                                                team  \n",
       "0  ['53f42d67dabfaedd74d36ddd', '53f48babdabfaea7...  \n",
       "1  ['53f436efdabfaee2a1ceb382', '53f4ae26dabfaee0...  \n",
       "2  ['53f453b6dabfaee2a1d699bd', '53f55e9fdabfae52...  \n",
       "3  ['53f43283dabfaee4dc75af98', '53f325efdabfae9a...  \n",
       "4  ['53f42d86dabfaee43ebc6a6a', '542a3df7dabfae64...  "
      ]
     },
     "metadata": {},
     "output_type": "display_data"
    }
   ],
   "source": [
    "final_train_set = pd.concat([train_set, test_set_move])\n",
    "# shuffle the rows\n",
    "final_train_set = final_train_set.sample(frac=1, random_state=42).reset_index(drop=True)\n",
    "print(final_train_set.shape)\n",
    "print(train_set.shape[0] + test_set_move.shape[0])\n",
    "display(final_train_set.head())"
   ]
  },
  {
   "cell_type": "code",
   "execution_count": 32,
   "metadata": {},
   "outputs": [],
   "source": [
    "final_train_id = final_train_set[\"id\"].tolist()\n",
    "final_test_id = final_test_set[\"id\"].tolist()"
   ]
  },
  {
   "cell_type": "code",
   "execution_count": 33,
   "metadata": {},
   "outputs": [
    {
     "name": "stdout",
     "output_type": "stream",
     "text": [
      "[]\n",
      "[]\n"
     ]
    }
   ],
   "source": [
    "print([id for id in final_train_id if id in final_test_id])\n",
    "print([id for id in final_test_id if id in final_train_id])"
   ]
  },
  {
   "cell_type": "code",
   "execution_count": 34,
   "metadata": {},
   "outputs": [],
   "source": [
    "assert df.shape[0] == len(final_train_id) + len(final_test_id)"
   ]
  },
  {
   "cell_type": "code",
   "execution_count": 35,
   "metadata": {},
   "outputs": [],
   "source": [
    "# Define a function to convert the DataFrame to a Dataset object\n",
    "def create_dataset(df):\n",
    "    return Dataset.from_pandas(df)"
   ]
  },
  {
   "cell_type": "code",
   "execution_count": 36,
   "metadata": {},
   "outputs": [],
   "source": [
    "# Create Dataset objects for train and test sets\n",
    "train_dataset = create_dataset(final_train_set)\n",
    "test_dataset = create_dataset(final_test_set)\n",
    "\n",
    "# Combine them into a DatasetDict\n",
    "dataset_dict = DatasetDict({\n",
    "    'train': train_dataset,\n",
    "    'test': test_dataset\n",
    "})"
   ]
  },
  {
   "cell_type": "code",
   "execution_count": 37,
   "metadata": {},
   "outputs": [
    {
     "data": {
      "text/plain": [
       "DatasetDict({\n",
       "    train: Dataset({\n",
       "        features: ['id', 'input', 'team'],\n",
       "        num_rows: 20799\n",
       "    })\n",
       "    test: Dataset({\n",
       "        features: ['id', 'input', 'team'],\n",
       "        num_rows: 5252\n",
       "    })\n",
       "})"
      ]
     },
     "execution_count": 37,
     "metadata": {},
     "output_type": "execute_result"
    }
   ],
   "source": [
    "dataset_dict"
   ]
  },
  {
   "cell_type": "code",
   "execution_count": 175,
   "metadata": {},
   "outputs": [
    {
     "data": {
      "application/vnd.jupyter.widget-view+json": {
       "model_id": "08770a4c691f4b988c6663a65341e013",
       "version_major": 2,
       "version_minor": 0
      },
      "text/plain": [
       "Saving the dataset (0/1 shards):   0%|          | 0/20799 [00:00<?, ? examples/s]"
      ]
     },
     "metadata": {},
     "output_type": "display_data"
    },
    {
     "data": {
      "application/vnd.jupyter.widget-view+json": {
       "model_id": "58289782b94b4685ae5712adbf92385a",
       "version_major": 2,
       "version_minor": 0
      },
      "text/plain": [
       "Saving the dataset (0/1 shards):   0%|          | 0/7495 [00:00<?, ? examples/s]"
      ]
     },
     "metadata": {},
     "output_type": "display_data"
    }
   ],
   "source": [
    "dataset_dict.save_to_disk('data/cs_paper_author_over2pub/dataset_directory')"
   ]
  }
 ],
 "metadata": {
  "kernelspec": {
   "display_name": "base",
   "language": "python",
   "name": "python3"
  },
  "language_info": {
   "codemirror_mode": {
    "name": "ipython",
    "version": 3
   },
   "file_extension": ".py",
   "mimetype": "text/x-python",
   "name": "python",
   "nbconvert_exporter": "python",
   "pygments_lexer": "ipython3",
   "version": "3.9.20"
  },
  "orig_nbformat": 4
 },
 "nbformat": 4,
 "nbformat_minor": 2
}
